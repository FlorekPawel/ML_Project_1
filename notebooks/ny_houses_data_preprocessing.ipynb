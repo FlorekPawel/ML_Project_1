{
 "cells": [
  {
   "cell_type": "code",
<<<<<<< HEAD
   "execution_count": 1,
=======
   "execution_count": 214,
>>>>>>> dc970641f1b7ca4e7d277fac96f5eba90880a4eb
   "metadata": {},
   "outputs": [],
   "source": [
    "import pandas as pd\n",
    "import numpy as np\n",
    "import seaborn as sns\n",
    "import matplotlib.pyplot as plt\n",
    "import warnings\n",
    "warnings.filterwarnings('ignore')\n",
    "from sklearn.model_selection import train_test_split"
   ]
  },
  {
   "cell_type": "code",
<<<<<<< HEAD
   "execution_count": 2,
   "metadata": {},
   "outputs": [],
   "source": [
    "df = pd.read_csv(\"C:/PW/Semestr 4/ML/Projekt 1/data/learning_data.csv\")"
=======
   "execution_count": 215,
   "metadata": {},
   "outputs": [],
   "source": [
    "df = pd.read_csv(\"D:/Studia/Semestr 4/ML/ML_Project_1/data/learning_data.csv\")"
>>>>>>> dc970641f1b7ca4e7d277fac96f5eba90880a4eb
   ]
  },
  {
   "cell_type": "markdown",
   "metadata": {},
   "source": [
    "## **Preprocessing danych**"
   ]
  },
  {
   "cell_type": "code",
<<<<<<< HEAD
   "execution_count": 3,
=======
   "execution_count": 216,
>>>>>>> dc970641f1b7ca4e7d277fac96f5eba90880a4eb
   "metadata": {},
   "outputs": [
    {
     "data": {
      "text/html": [
       "<div>\n",
       "<style scoped>\n",
       "    .dataframe tbody tr th:only-of-type {\n",
       "        vertical-align: middle;\n",
       "    }\n",
       "\n",
       "    .dataframe tbody tr th {\n",
       "        vertical-align: top;\n",
       "    }\n",
       "\n",
       "    .dataframe thead th {\n",
       "        text-align: right;\n",
       "    }\n",
       "</style>\n",
       "<table border=\"1\" class=\"dataframe\">\n",
       "  <thead>\n",
       "    <tr style=\"text-align: right;\">\n",
       "      <th></th>\n",
       "      <th>BROKERTITLE</th>\n",
       "      <th>TYPE</th>\n",
       "      <th>PRICE</th>\n",
       "      <th>BEDS</th>\n",
       "      <th>BATH</th>\n",
       "      <th>PROPERTYSQFT</th>\n",
       "      <th>ADDRESS</th>\n",
       "      <th>STATE</th>\n",
       "      <th>MAIN_ADDRESS</th>\n",
       "      <th>ADMINISTRATIVE_AREA_LEVEL_2</th>\n",
       "      <th>LOCALITY</th>\n",
       "      <th>SUBLOCALITY</th>\n",
       "      <th>STREET_NAME</th>\n",
       "      <th>LONG_NAME</th>\n",
       "      <th>FORMATTED_ADDRESS</th>\n",
       "      <th>LATITUDE</th>\n",
       "      <th>LONGITUDE</th>\n",
       "    </tr>\n",
       "  </thead>\n",
       "  <tbody>\n",
       "    <tr>\n",
       "      <th>0</th>\n",
       "      <td>Brokered by Corcoran West Side</td>\n",
       "      <td>Co-op for sale</td>\n",
       "      <td>415000</td>\n",
       "      <td>3</td>\n",
       "      <td>1.0</td>\n",
       "      <td>2184.207862</td>\n",
       "      <td>233 E 70th St Apt 6R</td>\n",
       "      <td>New York, NY 10021</td>\n",
       "      <td>233 E 70th St Apt 6RNew York, NY 10021</td>\n",
       "      <td>New York</td>\n",
       "      <td>New York County</td>\n",
       "      <td>New York</td>\n",
       "      <td>Manhattan</td>\n",
       "      <td>233</td>\n",
       "      <td>233 E 70th St #6r, New York, NY 10021, USA</td>\n",
       "      <td>40.767820</td>\n",
       "      <td>-73.959425</td>\n",
       "    </tr>\n",
       "    <tr>\n",
       "      <th>1</th>\n",
       "      <td>Brokered by Douglas Elliman - Roslyn</td>\n",
       "      <td>Multi-family home for sale</td>\n",
       "      <td>1699000</td>\n",
       "      <td>5</td>\n",
       "      <td>5.0</td>\n",
       "      <td>2184.207862</td>\n",
       "      <td>42-11 Astoria Blvd N</td>\n",
       "      <td>Astoria, NY 11105</td>\n",
       "      <td>42-11 Astoria Blvd NAstoria, NY 11105</td>\n",
       "      <td>United States</td>\n",
       "      <td>New York</td>\n",
       "      <td>Queens County</td>\n",
       "      <td>Queens</td>\n",
       "      <td>Astoria Boulevard North</td>\n",
       "      <td>42-11 Astoria Blvd N, Astoria, NY 11105, USA</td>\n",
       "      <td>40.769148</td>\n",
       "      <td>-73.907370</td>\n",
       "    </tr>\n",
       "    <tr>\n",
       "      <th>2</th>\n",
       "      <td>Brokered by EXP Realty</td>\n",
       "      <td>Condo for sale</td>\n",
       "      <td>675000</td>\n",
       "      <td>2</td>\n",
       "      <td>2.0</td>\n",
       "      <td>904.000000</td>\n",
       "      <td>92-29 Queens Blvd Unit 7H116</td>\n",
       "      <td>Rego Park, NY 11374</td>\n",
       "      <td>92-29 Queens Blvd Unit 7H116Rego Park, NY 11374</td>\n",
       "      <td>United States</td>\n",
       "      <td>New York</td>\n",
       "      <td>Queens County</td>\n",
       "      <td>Queens</td>\n",
       "      <td>Queens Boulevard</td>\n",
       "      <td>92-29 Queens Blvd, Rego Park, NY 11374, USA</td>\n",
       "      <td>40.732471</td>\n",
       "      <td>-73.867080</td>\n",
       "    </tr>\n",
       "    <tr>\n",
       "      <th>3</th>\n",
       "      <td>Brokered by Momentum Real Estate LLC</td>\n",
       "      <td>Multi-family home for sale</td>\n",
       "      <td>850000</td>\n",
       "      <td>3</td>\n",
       "      <td>2.0</td>\n",
       "      <td>1696.000000</td>\n",
       "      <td>213 Liberty Ave</td>\n",
       "      <td>Staten Island, NY 10305</td>\n",
       "      <td>213 Liberty AveStaten Island, NY 10305</td>\n",
       "      <td>United States</td>\n",
       "      <td>New York</td>\n",
       "      <td>Richmond County</td>\n",
       "      <td>Staten Island</td>\n",
       "      <td>Liberty Avenue</td>\n",
       "      <td>213 Liberty Ave, Staten Island, NY 10305, USA</td>\n",
       "      <td>40.587072</td>\n",
       "      <td>-74.094436</td>\n",
       "    </tr>\n",
       "    <tr>\n",
       "      <th>4</th>\n",
       "      <td>Brokered by COMPASS</td>\n",
       "      <td>Co-op for sale</td>\n",
       "      <td>825000</td>\n",
       "      <td>2</td>\n",
       "      <td>1.0</td>\n",
       "      <td>2184.207862</td>\n",
       "      <td>250 W 103rd St Apt 7D</td>\n",
       "      <td>Manhattan, NY 10025</td>\n",
       "      <td>250 W 103rd St Apt 7DManhattan, NY 10025</td>\n",
       "      <td>New York</td>\n",
       "      <td>New York County</td>\n",
       "      <td>New York</td>\n",
       "      <td>Manhattan</td>\n",
       "      <td>250</td>\n",
       "      <td>250 W 103rd St Apt 7b, New York, NY 10025, USA</td>\n",
       "      <td>40.799157</td>\n",
       "      <td>-73.969032</td>\n",
       "    </tr>\n",
       "  </tbody>\n",
       "</table>\n",
       "</div>"
      ],
      "text/plain": [
       "                            BROKERTITLE                        TYPE    PRICE  \\\n",
       "0        Brokered by Corcoran West Side              Co-op for sale   415000   \n",
       "1  Brokered by Douglas Elliman - Roslyn  Multi-family home for sale  1699000   \n",
       "2                Brokered by EXP Realty              Condo for sale   675000   \n",
       "3  Brokered by Momentum Real Estate LLC  Multi-family home for sale   850000   \n",
       "4                   Brokered by COMPASS              Co-op for sale   825000   \n",
       "\n",
       "   BEDS  BATH  PROPERTYSQFT                       ADDRESS  \\\n",
       "0     3   1.0   2184.207862          233 E 70th St Apt 6R   \n",
       "1     5   5.0   2184.207862          42-11 Astoria Blvd N   \n",
       "2     2   2.0    904.000000  92-29 Queens Blvd Unit 7H116   \n",
       "3     3   2.0   1696.000000               213 Liberty Ave   \n",
       "4     2   1.0   2184.207862         250 W 103rd St Apt 7D   \n",
       "\n",
       "                     STATE                                     MAIN_ADDRESS  \\\n",
       "0       New York, NY 10021           233 E 70th St Apt 6RNew York, NY 10021   \n",
       "1        Astoria, NY 11105            42-11 Astoria Blvd NAstoria, NY 11105   \n",
       "2      Rego Park, NY 11374  92-29 Queens Blvd Unit 7H116Rego Park, NY 11374   \n",
       "3  Staten Island, NY 10305           213 Liberty AveStaten Island, NY 10305   \n",
       "4      Manhattan, NY 10025         250 W 103rd St Apt 7DManhattan, NY 10025   \n",
       "\n",
       "  ADMINISTRATIVE_AREA_LEVEL_2         LOCALITY      SUBLOCALITY  \\\n",
       "0                    New York  New York County         New York   \n",
       "1               United States         New York    Queens County   \n",
       "2               United States         New York    Queens County   \n",
       "3               United States         New York  Richmond County   \n",
       "4                    New York  New York County         New York   \n",
       "\n",
       "     STREET_NAME                LONG_NAME  \\\n",
       "0      Manhattan                      233   \n",
       "1         Queens  Astoria Boulevard North   \n",
       "2         Queens         Queens Boulevard   \n",
       "3  Staten Island           Liberty Avenue   \n",
       "4      Manhattan                      250   \n",
       "\n",
       "                                FORMATTED_ADDRESS   LATITUDE  LONGITUDE  \n",
       "0      233 E 70th St #6r, New York, NY 10021, USA  40.767820 -73.959425  \n",
       "1    42-11 Astoria Blvd N, Astoria, NY 11105, USA  40.769148 -73.907370  \n",
       "2     92-29 Queens Blvd, Rego Park, NY 11374, USA  40.732471 -73.867080  \n",
       "3   213 Liberty Ave, Staten Island, NY 10305, USA  40.587072 -74.094436  \n",
       "4  250 W 103rd St Apt 7b, New York, NY 10025, USA  40.799157 -73.969032  "
      ]
     },
<<<<<<< HEAD
     "execution_count": 3,
=======
     "execution_count": 216,
>>>>>>> dc970641f1b7ca4e7d277fac96f5eba90880a4eb
     "metadata": {},
     "output_type": "execute_result"
    }
   ],
   "source": [
    "df.head(5)"
   ]
  },
  {
   "cell_type": "code",
<<<<<<< HEAD
   "execution_count": 4,
=======
   "execution_count": 217,
>>>>>>> dc970641f1b7ca4e7d277fac96f5eba90880a4eb
   "metadata": {},
   "outputs": [],
   "source": [
    "df['ZIPCODE'] = df[\"STATE\"].str.extract(r'(\\b\\d{5}\\b)')"
   ]
  },
  {
   "cell_type": "code",
<<<<<<< HEAD
   "execution_count": 5,
=======
   "execution_count": 218,
>>>>>>> dc970641f1b7ca4e7d277fac96f5eba90880a4eb
   "metadata": {},
   "outputs": [
    {
     "data": {
      "text/plain": [
       "count      3360\n",
       "unique      175\n",
       "top       11375\n",
       "freq         72\n",
       "Name: ZIPCODE, dtype: object"
      ]
     },
<<<<<<< HEAD
     "execution_count": 5,
=======
     "execution_count": 218,
>>>>>>> dc970641f1b7ca4e7d277fac96f5eba90880a4eb
     "metadata": {},
     "output_type": "execute_result"
    }
   ],
   "source": [
    "df['ZIPCODE'].describe()"
   ]
  },
  {
   "cell_type": "code",
<<<<<<< HEAD
   "execution_count": 6,
=======
   "execution_count": 219,
>>>>>>> dc970641f1b7ca4e7d277fac96f5eba90880a4eb
   "metadata": {},
   "outputs": [
    {
     "data": {
      "text/plain": [
       "11375    72\n",
       "11235    67\n",
       "11234    66\n",
       "10463    65\n",
       "10314    59\n",
       "         ..\n",
       "10006     2\n",
       "10282     1\n",
       "10475     1\n",
       "11693     1\n",
       "10455     1\n",
       "Name: ZIPCODE, Length: 175, dtype: int64"
      ]
     },
<<<<<<< HEAD
     "execution_count": 6,
=======
     "execution_count": 219,
>>>>>>> dc970641f1b7ca4e7d277fac96f5eba90880a4eb
     "metadata": {},
     "output_type": "execute_result"
    }
   ],
   "source": [
    "df['ZIPCODE'].value_counts()"
   ]
  },
  {
   "cell_type": "code",
<<<<<<< HEAD
   "execution_count": 7,
=======
   "execution_count": 220,
>>>>>>> dc970641f1b7ca4e7d277fac96f5eba90880a4eb
   "metadata": {},
   "outputs": [
    {
     "data": {
      "text/plain": [
       "0"
      ]
     },
<<<<<<< HEAD
     "execution_count": 7,
=======
     "execution_count": 220,
>>>>>>> dc970641f1b7ca4e7d277fac96f5eba90880a4eb
     "metadata": {},
     "output_type": "execute_result"
    }
   ],
   "source": [
    "df['ZIPCODE'].isnull().sum()"
   ]
  },
  {
   "cell_type": "code",
<<<<<<< HEAD
   "execution_count": 8,
=======
   "execution_count": 221,
>>>>>>> dc970641f1b7ca4e7d277fac96f5eba90880a4eb
   "metadata": {},
   "outputs": [
    {
     "data": {
      "text/html": [
       "<div>\n",
       "<style scoped>\n",
       "    .dataframe tbody tr th:only-of-type {\n",
       "        vertical-align: middle;\n",
       "    }\n",
       "\n",
       "    .dataframe tbody tr th {\n",
       "        vertical-align: top;\n",
       "    }\n",
       "\n",
       "    .dataframe thead th {\n",
       "        text-align: right;\n",
       "    }\n",
       "</style>\n",
       "<table border=\"1\" class=\"dataframe\">\n",
       "  <thead>\n",
       "    <tr style=\"text-align: right;\">\n",
       "      <th></th>\n",
       "      <th>BEDS</th>\n",
       "      <th>BATH</th>\n",
       "      <th>PROPERTYSQFT</th>\n",
       "      <th>ZIPCODE</th>\n",
       "      <th>SUBLOCALITY</th>\n",
       "      <th>BROKERTITLE</th>\n",
       "      <th>TYPE</th>\n",
       "      <th>PRICE</th>\n",
<<<<<<< HEAD
=======
       "      <th>LATITUDE</th>\n",
       "      <th>LONGITUDE</th>\n",
>>>>>>> dc970641f1b7ca4e7d277fac96f5eba90880a4eb
       "    </tr>\n",
       "  </thead>\n",
       "  <tbody>\n",
       "    <tr>\n",
       "      <th>0</th>\n",
       "      <td>3</td>\n",
       "      <td>1.0</td>\n",
       "      <td>2184.207862</td>\n",
       "      <td>10021</td>\n",
       "      <td>New York</td>\n",
       "      <td>Brokered by Corcoran West Side</td>\n",
       "      <td>Co-op for sale</td>\n",
       "      <td>415000</td>\n",
<<<<<<< HEAD
=======
       "      <td>40.767820</td>\n",
       "      <td>-73.959425</td>\n",
>>>>>>> dc970641f1b7ca4e7d277fac96f5eba90880a4eb
       "    </tr>\n",
       "    <tr>\n",
       "      <th>1</th>\n",
       "      <td>5</td>\n",
       "      <td>5.0</td>\n",
       "      <td>2184.207862</td>\n",
       "      <td>11105</td>\n",
       "      <td>Queens County</td>\n",
       "      <td>Brokered by Douglas Elliman - Roslyn</td>\n",
       "      <td>Multi-family home for sale</td>\n",
       "      <td>1699000</td>\n",
<<<<<<< HEAD
=======
       "      <td>40.769148</td>\n",
       "      <td>-73.907370</td>\n",
>>>>>>> dc970641f1b7ca4e7d277fac96f5eba90880a4eb
       "    </tr>\n",
       "    <tr>\n",
       "      <th>2</th>\n",
       "      <td>2</td>\n",
       "      <td>2.0</td>\n",
       "      <td>904.000000</td>\n",
       "      <td>11374</td>\n",
       "      <td>Queens County</td>\n",
       "      <td>Brokered by EXP Realty</td>\n",
       "      <td>Condo for sale</td>\n",
       "      <td>675000</td>\n",
<<<<<<< HEAD
=======
       "      <td>40.732471</td>\n",
       "      <td>-73.867080</td>\n",
>>>>>>> dc970641f1b7ca4e7d277fac96f5eba90880a4eb
       "    </tr>\n",
       "    <tr>\n",
       "      <th>3</th>\n",
       "      <td>3</td>\n",
       "      <td>2.0</td>\n",
       "      <td>1696.000000</td>\n",
       "      <td>10305</td>\n",
       "      <td>Richmond County</td>\n",
       "      <td>Brokered by Momentum Real Estate LLC</td>\n",
       "      <td>Multi-family home for sale</td>\n",
       "      <td>850000</td>\n",
<<<<<<< HEAD
=======
       "      <td>40.587072</td>\n",
       "      <td>-74.094436</td>\n",
>>>>>>> dc970641f1b7ca4e7d277fac96f5eba90880a4eb
       "    </tr>\n",
       "    <tr>\n",
       "      <th>4</th>\n",
       "      <td>2</td>\n",
       "      <td>1.0</td>\n",
       "      <td>2184.207862</td>\n",
       "      <td>10025</td>\n",
       "      <td>New York</td>\n",
       "      <td>Brokered by COMPASS</td>\n",
       "      <td>Co-op for sale</td>\n",
       "      <td>825000</td>\n",
<<<<<<< HEAD
=======
       "      <td>40.799157</td>\n",
       "      <td>-73.969032</td>\n",
>>>>>>> dc970641f1b7ca4e7d277fac96f5eba90880a4eb
       "    </tr>\n",
       "  </tbody>\n",
       "</table>\n",
       "</div>"
      ],
      "text/plain": [
       "   BEDS  BATH  PROPERTYSQFT ZIPCODE      SUBLOCALITY  \\\n",
       "0     3   1.0   2184.207862   10021         New York   \n",
       "1     5   5.0   2184.207862   11105    Queens County   \n",
       "2     2   2.0    904.000000   11374    Queens County   \n",
       "3     3   2.0   1696.000000   10305  Richmond County   \n",
       "4     2   1.0   2184.207862   10025         New York   \n",
       "\n",
<<<<<<< HEAD
       "                            BROKERTITLE                        TYPE    PRICE  \n",
       "0        Brokered by Corcoran West Side              Co-op for sale   415000  \n",
       "1  Brokered by Douglas Elliman - Roslyn  Multi-family home for sale  1699000  \n",
       "2                Brokered by EXP Realty              Condo for sale   675000  \n",
       "3  Brokered by Momentum Real Estate LLC  Multi-family home for sale   850000  \n",
       "4                   Brokered by COMPASS              Co-op for sale   825000  "
      ]
     },
     "execution_count": 8,
=======
       "                            BROKERTITLE                        TYPE    PRICE  \\\n",
       "0        Brokered by Corcoran West Side              Co-op for sale   415000   \n",
       "1  Brokered by Douglas Elliman - Roslyn  Multi-family home for sale  1699000   \n",
       "2                Brokered by EXP Realty              Condo for sale   675000   \n",
       "3  Brokered by Momentum Real Estate LLC  Multi-family home for sale   850000   \n",
       "4                   Brokered by COMPASS              Co-op for sale   825000   \n",
       "\n",
       "    LATITUDE  LONGITUDE  \n",
       "0  40.767820 -73.959425  \n",
       "1  40.769148 -73.907370  \n",
       "2  40.732471 -73.867080  \n",
       "3  40.587072 -74.094436  \n",
       "4  40.799157 -73.969032  "
      ]
     },
     "execution_count": 221,
>>>>>>> dc970641f1b7ca4e7d277fac96f5eba90880a4eb
     "metadata": {},
     "output_type": "execute_result"
    }
   ],
   "source": [
<<<<<<< HEAD
    "df_prep = df[['BEDS', 'BATH', 'PROPERTYSQFT', 'ZIPCODE', 'SUBLOCALITY', 'BROKERTITLE', 'TYPE', 'PRICE']]\n",
=======
    "df_prep = df[['BEDS', 'BATH', 'PROPERTYSQFT', 'ZIPCODE', 'SUBLOCALITY', 'BROKERTITLE', 'TYPE', 'PRICE', 'LATITUDE', 'LONGITUDE']]\n",
>>>>>>> dc970641f1b7ca4e7d277fac96f5eba90880a4eb
    "df_prep.head(5)"
   ]
  },
  {
   "cell_type": "markdown",
   "metadata": {},
   "source": [
    "### Dane liczbowe"
   ]
  },
  {
   "cell_type": "markdown",
   "metadata": {},
   "source": [
    "Usuńmy outliery z Price, gdzie rozkład jest zbliżony do normalnego (zasada 3 $\\sigma$)"
   ]
  },
  {
   "cell_type": "code",
<<<<<<< HEAD
   "execution_count": 9,
=======
   "execution_count": 222,
>>>>>>> dc970641f1b7ca4e7d277fac96f5eba90880a4eb
   "metadata": {},
   "outputs": [
    {
     "name": "stdout",
     "output_type": "stream",
     "text": [
      "Przed: 3360\n",
      "Po: 3324\n"
     ]
    }
   ],
   "source": [
    "df_prep['PRICE_LOG'] = np.log1p(df_prep['PRICE'])\n",
    "print(f'Przed: { df.shape[0]}')\n",
    "mean_pr = df_prep['PRICE_LOG'].mean()\n",
    "std_pr = df_prep['PRICE_LOG'].std()\n",
    "lower = mean_pr - 3 * std_pr\n",
    "upper = mean_pr + 3 * std_pr\n",
    "df_prep = df_prep[(df_prep['PRICE_LOG'] >= lower) & (df_prep['PRICE_LOG'] <= upper)]\n",
    "print(f'Po: { df_prep.shape[0]}')"
   ]
  },
  {
   "cell_type": "markdown",
   "metadata": {},
   "source": [
    "Usuwamy outliery ze zmiennych BEDS i BATH"
   ]
  },
  {
   "cell_type": "code",
<<<<<<< HEAD
   "execution_count": 10,
=======
   "execution_count": 223,
>>>>>>> dc970641f1b7ca4e7d277fac96f5eba90880a4eb
   "metadata": {},
   "outputs": [
    {
     "name": "stdout",
     "output_type": "stream",
     "text": [
      "Wejściowy rozmiar:  3324\n",
      "Wyjściowy rozmiar:  3181\n"
     ]
    }
   ],
   "source": [
    "print('Wejściowy rozmiar: ', df_prep.shape[0])\n",
    "\n",
    "upper_lim = df_prep['BEDS'].quantile(0.95)\n",
    "df_prep = df_prep[(df_prep['BEDS'] <= upper_lim)]\n",
    "\n",
    "print('Wyjściowy rozmiar: ', df_prep.shape[0])"
   ]
  },
  {
   "cell_type": "code",
<<<<<<< HEAD
   "execution_count": 11,
=======
   "execution_count": 224,
>>>>>>> dc970641f1b7ca4e7d277fac96f5eba90880a4eb
   "metadata": {},
   "outputs": [
    {
     "name": "stdout",
     "output_type": "stream",
     "text": [
      "Wejściowy rozmiar:  3181\n",
      "Wyjściowy rozmiar:  3048\n"
     ]
    }
   ],
   "source": [
    "print('Wejściowy rozmiar: ', df_prep.shape[0])\n",
    "\n",
    "upper_lim = df_prep['BATH'].quantile(0.95)\n",
    "df_prep = df_prep[(df_prep['BATH'] <= upper_lim)]\n",
    "\n",
    "print('Wyjściowy rozmiar: ', df_prep.shape[0])"
   ]
  },
  {
   "cell_type": "code",
<<<<<<< HEAD
   "execution_count": 12,
=======
   "execution_count": 225,
   "metadata": {},
   "outputs": [
    {
     "name": "stdout",
     "output_type": "stream",
     "text": [
      "Przed: 3048\n",
      "Po: 3038\n"
     ]
    }
   ],
   "source": [
    "print(f'Przed: { df_prep.shape[0]}')\n",
    "\n",
    "mean_pr = df_prep['PROPERTYSQFT'].mean()\n",
    "std_pr = df_prep['PROPERTYSQFT'].std()\n",
    "upper = mean_pr + 3 * std_pr\n",
    "df_prep = df_prep[(df['PROPERTYSQFT'] <= upper) ]\n",
    "print(f'Po: { df_prep.shape[0]}') "
   ]
  },
  {
   "cell_type": "code",
   "execution_count": 226,
>>>>>>> dc970641f1b7ca4e7d277fac96f5eba90880a4eb
   "metadata": {},
   "outputs": [],
   "source": [
    "df_prep['SQFT_LOG'] = np.log10(df_prep['PROPERTYSQFT'])"
   ]
  },
  {
   "cell_type": "markdown",
   "metadata": {},
   "source": [
    "Dane po usunięciu outlierów i transformacji danych"
   ]
  },
  {
   "cell_type": "code",
<<<<<<< HEAD
   "execution_count": 13,
=======
   "execution_count": 227,
>>>>>>> dc970641f1b7ca4e7d277fac96f5eba90880a4eb
   "metadata": {},
   "outputs": [
    {
     "data": {
<<<<<<< HEAD
      "image/png": "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",
=======
      "image/png": "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",
>>>>>>> dc970641f1b7ca4e7d277fac96f5eba90880a4eb
      "text/plain": [
       "<Figure size 500x1600 with 6 Axes>"
      ]
     },
     "metadata": {},
     "output_type": "display_data"
    }
   ],
   "source": [
    "fig, axes = plt.subplots(6, 1, figsize= (5, 16))\n",
    "axes = axes.flatten()\n",
    "\n",
    "for i, col in enumerate([\"BEDS\", \"BATH\", \"PROPERTYSQFT\", \"SQFT_LOG\", \"PRICE\", \"PRICE_LOG\"]):\n",
    "    sns.boxplot(df_prep, x= (df_prep[col]), ax= axes[i])\n",
    "    \n",
    "plt.tight_layout() \n",
    "plt.show()"
   ]
  },
  {
   "cell_type": "code",
<<<<<<< HEAD
   "execution_count": 14,
=======
   "execution_count": 228,
>>>>>>> dc970641f1b7ca4e7d277fac96f5eba90880a4eb
   "metadata": {},
   "outputs": [
    {
     "data": {
      "text/plain": [
<<<<<<< HEAD
       "<AxesSubplot: >"
      ]
     },
     "execution_count": 14,
=======
       "<Axes: >"
      ]
     },
     "execution_count": 228,
>>>>>>> dc970641f1b7ca4e7d277fac96f5eba90880a4eb
     "metadata": {},
     "output_type": "execute_result"
    },
    {
     "data": {
<<<<<<< HEAD
      "image/png": "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",
=======
      "image/png": "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",
>>>>>>> dc970641f1b7ca4e7d277fac96f5eba90880a4eb
      "text/plain": [
       "<Figure size 640x480 with 2 Axes>"
      ]
     },
     "metadata": {},
     "output_type": "display_data"
    }
   ],
   "source": [
    "sns.heatmap(df_prep[[\"BEDS\", \"BATH\", \"PROPERTYSQFT\", \"SQFT_LOG\", \"PRICE\", \"PRICE_LOG\"]].corr(), annot=True, cmap=\"YlGnBu\")"
   ]
  },
  {
   "cell_type": "code",
<<<<<<< HEAD
   "execution_count": 15,
   "metadata": {},
   "outputs": [],
   "source": [
    "df_prep_2 = df_prep[['BEDS', 'BATH', 'SQFT_LOG', 'ZIPCODE', 'SUBLOCALITY', 'BROKERTITLE', 'TYPE', 'PRICE_LOG']]"
=======
   "execution_count": 229,
   "metadata": {},
   "outputs": [],
   "source": [
    "df_prep_2 = df_prep[['BEDS', 'BATH', 'SQFT_LOG', 'ZIPCODE', 'SUBLOCALITY', 'BROKERTITLE', 'TYPE', 'PRICE_LOG','LATITUDE', 'LONGITUDE']]"
>>>>>>> dc970641f1b7ca4e7d277fac96f5eba90880a4eb
   ]
  },
  {
   "cell_type": "markdown",
   "metadata": {},
   "source": [
    "### Dane kategoryczne"
   ]
  },
  {
   "cell_type": "code",
<<<<<<< HEAD
   "execution_count": 16,
=======
   "execution_count": 230,
>>>>>>> dc970641f1b7ca4e7d277fac96f5eba90880a4eb
   "metadata": {},
   "outputs": [
    {
     "name": "stdout",
     "output_type": "stream",
     "text": [
      "11375    72\n",
      "11235    64\n",
      "10463    64\n",
      "11234    62\n",
      "10314    59\n",
      "         ..\n",
      "10474     1\n",
      "11433     1\n",
      "10454     1\n",
      "11693     1\n",
      "10459     1\n",
      "Name: ZIPCODE, Length: 175, dtype: int64\n",
      "Liczba ZIPCODE występujących jednokrotnie: 8\n",
      "________________________________________________________________\n",
      "New York           697\n",
<<<<<<< HEAD
      "Kings County       427\n",
      "Queens County      424\n",
      "Queens             389\n",
      "Richmond County    312\n",
      "Brooklyn           307\n",
      "Bronx County       176\n",
      "The Bronx          129\n",
      "New York County    116\n",
=======
      "Kings County       425\n",
      "Queens County      423\n",
      "Queens             389\n",
      "Richmond County    311\n",
      "Brooklyn           306\n",
      "Bronx County       174\n",
      "The Bronx          129\n",
      "New York County    113\n",
>>>>>>> dc970641f1b7ca4e7d277fac96f5eba90880a4eb
      "Staten Island       40\n",
      "Manhattan           17\n",
      "Flushing             4\n",
      "Riverdale            4\n",
      "Coney Island         3\n",
      "Snyder Avenue        1\n",
      "Jackson Heights      1\n",
      "Fort Hamilton        1\n",
      "Name: SUBLOCALITY, dtype: int64\n",
      "Liczba SUBLOCALITY występujących jednokrotnie: 3\n",
      "________________________________________________________________\n",
<<<<<<< HEAD
      "Brokered by COMPASS                                             291\n",
      "Brokered by Douglas Elliman - 575 Madison Ave                    72\n",
=======
      "Brokered by COMPASS                                             287\n",
      "Brokered by Douglas Elliman - 575 Madison Ave                    71\n",
>>>>>>> dc970641f1b7ca4e7d277fac96f5eba90880a4eb
      "Brokered by Brown Harris Stevens                                 60\n",
      "Brokered by Corcoran East Side                                   53\n",
      "Brokered by RE MAX Edge                                          48\n",
      "                                                               ... \n",
<<<<<<< HEAD
      "Brokered by Listwithfreedom.Com, Inc.                             1\n",
      "Brokered by Accord Homes Realty                                   1\n",
      "Brokered by Jacobson Realty Ltd                                   1\n",
      "Brokered by HOT HOMES REALTY LLC.                                 1\n",
      "Brokered by Rising Star Realty and Property Management, Inc.      1\n",
      "Name: BROKERTITLE, Length: 812, dtype: int64\n",
      "Liczba BROKERTITLE występujących jednokrotnie: 440\n",
      "________________________________________________________________\n",
      "Co-op for sale                993\n",
      "House for sale                665\n",
      "Condo for sale                617\n",
      "Multi-family home for sale    348\n",
      "Pending                       161\n",
      "Townhouse for sale            152\n",
=======
      "Brokered by Nyc Elite Homes Inc                                   1\n",
      "Brokered by Jm Properties                                         1\n",
      "Brokered by Grandeur Realty, Inc.                                 1\n",
      "Brokered by Belle Maison Realty Inc                               1\n",
      "Brokered by Rising Star Realty and Property Management, Inc.      1\n",
      "Name: BROKERTITLE, Length: 809, dtype: int64\n",
      "Liczba BROKERTITLE występujących jednokrotnie: 438\n",
      "________________________________________________________________\n",
      "Co-op for sale                993\n",
      "House for sale                664\n",
      "Condo for sale                616\n",
      "Multi-family home for sale    344\n",
      "Pending                       161\n",
      "Townhouse for sale            148\n",
>>>>>>> dc970641f1b7ca4e7d277fac96f5eba90880a4eb
      "Contingent                     60\n",
      "Land for sale                  33\n",
      "For sale                        8\n",
      "Foreclosure                     7\n",
      "Condop for sale                 2\n",
      "Coming Soon                     1\n",
      "Mobile house for sale           1\n",
      "Name: TYPE, dtype: int64\n",
      "Liczba TYPE występujących jednokrotnie: 2\n",
      "________________________________________________________________\n"
     ]
    }
   ],
   "source": [
    "cat = [\"ZIPCODE\", \"SUBLOCALITY\", \"BROKERTITLE\", \"TYPE\"]\n",
    "\n",
    "for col in cat:\n",
    "    df_tmp = df_prep_2[col].value_counts()\n",
    "    print(df_tmp)\n",
    "    \n",
    "    df_tmp = df_tmp.reset_index()\n",
    "    df_tmp.columns = [col, \"count\"]\n",
    "    print(f'Liczba {col} występujących jednokrotnie:', df_tmp[df_tmp['count'] == 1].shape[0])\n",
    "    print(end= \"________________________________________________________________\\n\")"
   ]
  },
  {
   "cell_type": "markdown",
   "metadata": {},
   "source": [
    "Grupujemy pojedyńczo występujących pośredników w kategorię \"Other\""
   ]
  },
  {
   "cell_type": "code",
<<<<<<< HEAD
   "execution_count": 17,
=======
   "execution_count": 231,
>>>>>>> dc970641f1b7ca4e7d277fac96f5eba90880a4eb
   "metadata": {},
   "outputs": [
    {
     "data": {
      "text/plain": [
<<<<<<< HEAD
       "Index(['Premier Homes Pros', 'Challenger Brokers',\n",
       "       'DIGS - Digs Realty Group EMAIL)', 'Deutsch Realty',\n",
       "       'ACG REALTY NY LLC', 'Prime Properties Long Island',\n",
       "       'GLASHEN REALTY GROUP INC', 'De Luca Realty Group INC',\n",
       "       'Mitra Hakimi Realty Group LLC', 'J Home Realty LLC',\n",
       "       ...\n",
       "       'Exit Realty Prime', 'Azbel Real Estate Inc', 'Getmore Realty Inc',\n",
       "       'Buy Rite Home Sales Inc', 'Lombardo Homes & Estates',\n",
       "       'Listwithfreedom.Com, Inc.', 'Accord Homes Realty',\n",
       "       'Jacobson Realty Ltd', 'HOT HOMES REALTY LLC.',\n",
       "       'Rising Star Realty and Property Management, Inc.'],\n",
       "      dtype='object', length=440)"
      ]
     },
     "execution_count": 17,
=======
       "Index(['Master Associates Inc.', 'Project Queens LLC',\n",
       "       'GOOD WAY PROPERTIES, CORP.', 'Real Estate Top Sales Llc',\n",
       "       'Best Find Realty', 'Garden Square Realty', 'Epiphany Realty Llc',\n",
       "       'Julia Shildkret Real Estate', 'Dawning Real Estate, Inc.',\n",
       "       'Community Home Sales Inc',\n",
       "       ...\n",
       "       'Tri State Han Mi Realty Inc', 'Vantage Realty Partners',\n",
       "       'Annkey Realty, Inc.', 'Skylux Realty', 'Hall Homes Realty, Inc.',\n",
       "       'Nyc Elite Homes Inc', 'Jm Properties', 'Grandeur Realty, Inc.',\n",
       "       'Belle Maison Realty Inc',\n",
       "       'Rising Star Realty and Property Management, Inc.'],\n",
       "      dtype='object', length=438)"
      ]
     },
     "execution_count": 231,
>>>>>>> dc970641f1b7ca4e7d277fac96f5eba90880a4eb
     "metadata": {},
     "output_type": "execute_result"
    }
   ],
   "source": [
    "df_prep_2[\"BROKERTITLE\"] = df_prep_2[\"BROKERTITLE\"].str.replace(\"Brokered by \", \"\")\n",
    "small_brokers = df_prep_2[\"BROKERTITLE\"].value_counts()[df_prep_2['BROKERTITLE'].value_counts() == 1].index\n",
    "small_brokers"
   ]
  },
  {
   "cell_type": "code",
<<<<<<< HEAD
   "execution_count": 18,
=======
   "execution_count": 232,
>>>>>>> dc970641f1b7ca4e7d277fac96f5eba90880a4eb
   "metadata": {},
   "outputs": [
    {
     "data": {
      "text/plain": [
<<<<<<< HEAD
       "Other                                     440\n",
       "COMPASS                                   291\n",
       "Douglas Elliman - 575 Madison Ave          72\n",
=======
       "Other                                     438\n",
       "COMPASS                                   287\n",
       "Douglas Elliman - 575 Madison Ave          71\n",
>>>>>>> dc970641f1b7ca4e7d277fac96f5eba90880a4eb
       "Brown Harris Stevens                       60\n",
       "Corcoran East Side                         53\n",
       "                                         ... \n",
       "Fillmore Real Estate Fusion Team, INC.      2\n",
       "Keller Williams Points North                2\n",
       "Nexthome All Island                         2\n",
       "Soverign Homes Realty Inc                   2\n",
       "H P Greenfield Real Estate Ltd              2\n",
<<<<<<< HEAD
       "Name: BROKERTITLE, Length: 373, dtype: int64"
      ]
     },
     "execution_count": 18,
=======
       "Name: BROKERTITLE, Length: 372, dtype: int64"
      ]
     },
     "execution_count": 232,
>>>>>>> dc970641f1b7ca4e7d277fac96f5eba90880a4eb
     "metadata": {},
     "output_type": "execute_result"
    }
   ],
   "source": [
    "df_prep_2[\"BROKERTITLE\"] = np.where(df_prep_2[\"BROKERTITLE\"].isin(small_brokers), 'Other', df_prep_2[\"BROKERTITLE\"])\n",
    "df_prep_2[\"BROKERTITLE\"].value_counts()"
   ]
  },
  {
   "cell_type": "markdown",
   "metadata": {},
   "source": [
    "Ponieważ typ \"Coming Soon\" nie niesie ze sobą żadnej informacji apropo typu nieruchomości postanowiliśmy usunąć tę obserwację. \\\n",
    "\"Mobile house for sale\" był w naszej opinii na tyle niezwykłym typem nieruchomości, że również został usunięty ze względu na mały wpływ na uczenie się modelu. \\\n",
    "Dodatkowo oba typy wystąpiły jednokrotnie, co tym bardziej nie ma wpływu na trening."
   ]
  },
  {
   "cell_type": "code",
<<<<<<< HEAD
   "execution_count": 19,
=======
   "execution_count": 233,
>>>>>>> dc970641f1b7ca4e7d277fac96f5eba90880a4eb
   "metadata": {},
   "outputs": [
    {
     "data": {
      "text/plain": [
       "Co-op for sale                993\n",
<<<<<<< HEAD
       "House for sale                665\n",
       "Condo for sale                617\n",
       "Multi-family home for sale    348\n",
       "Pending                       161\n",
       "Townhouse for sale            152\n",
=======
       "House for sale                664\n",
       "Condo for sale                616\n",
       "Multi-family home for sale    344\n",
       "Pending                       161\n",
       "Townhouse for sale            148\n",
>>>>>>> dc970641f1b7ca4e7d277fac96f5eba90880a4eb
       "Contingent                     60\n",
       "Land for sale                  33\n",
       "For sale                        8\n",
       "Foreclosure                     7\n",
       "Condop for sale                 2\n",
       "Name: TYPE, dtype: int64"
      ]
     },
<<<<<<< HEAD
     "execution_count": 19,
=======
     "execution_count": 233,
>>>>>>> dc970641f1b7ca4e7d277fac96f5eba90880a4eb
     "metadata": {},
     "output_type": "execute_result"
    }
   ],
   "source": [
    "df_prep_2.drop(labels= df_prep_2[df_prep_2[\"TYPE\"].isin([\"Coming Soon\", \"Mobile house for sale\"])].index ,axis=0, inplace=True)\n",
    "df_prep_2[\"TYPE\"].value_counts()"
   ]
  },
  {
   "cell_type": "markdown",
   "metadata": {},
   "source": [
    "Postanowiliśmy zostawić pojedyńcze obserwacje w kategoriach ZIPCODE oraz SUBLOCALITY, ponieważ w naszej opinii nawet pojedyńcze obserwacje zawierają jakąś informację dotyczącą danej dzielnicy/ulicy w mieście zwłaszcza, że te kolumny zawierają stosunkowo dokładne dane o lokalizacji danej nieruchomości."
   ]
  },
  {
   "cell_type": "markdown",
   "metadata": {},
   "source": [
    "## Kodowanie zmiennych kategorycznych"
   ]
  },
  {
   "cell_type": "code",
<<<<<<< HEAD
   "execution_count": 20,
=======
   "execution_count": 234,
>>>>>>> dc970641f1b7ca4e7d277fac96f5eba90880a4eb
   "metadata": {},
   "outputs": [
    {
     "data": {
      "text/html": [
       "<div>\n",
       "<style scoped>\n",
       "    .dataframe tbody tr th:only-of-type {\n",
       "        vertical-align: middle;\n",
       "    }\n",
       "\n",
       "    .dataframe tbody tr th {\n",
       "        vertical-align: top;\n",
       "    }\n",
       "\n",
       "    .dataframe thead th {\n",
       "        text-align: right;\n",
       "    }\n",
       "</style>\n",
       "<table border=\"1\" class=\"dataframe\">\n",
       "  <thead>\n",
       "    <tr style=\"text-align: right;\">\n",
       "      <th></th>\n",
       "      <th>BEDS</th>\n",
       "      <th>BATH</th>\n",
       "      <th>SQFT_LOG</th>\n",
       "      <th>ZIPCODE</th>\n",
       "      <th>SUBLOCALITY</th>\n",
       "      <th>BROKERTITLE</th>\n",
       "      <th>TYPE</th>\n",
       "      <th>PRICE_LOG</th>\n",
<<<<<<< HEAD
=======
       "      <th>LATITUDE</th>\n",
       "      <th>LONGITUDE</th>\n",
>>>>>>> dc970641f1b7ca4e7d277fac96f5eba90880a4eb
       "    </tr>\n",
       "  </thead>\n",
       "  <tbody>\n",
       "    <tr>\n",
       "      <th>0</th>\n",
       "      <td>3</td>\n",
       "      <td>1.0</td>\n",
       "      <td>3.339294</td>\n",
       "      <td>10021</td>\n",
       "      <td>New York</td>\n",
       "      <td>Corcoran West Side</td>\n",
       "      <td>Co-op for sale</td>\n",
       "      <td>12.936036</td>\n",
<<<<<<< HEAD
=======
       "      <td>40.767820</td>\n",
       "      <td>-73.959425</td>\n",
>>>>>>> dc970641f1b7ca4e7d277fac96f5eba90880a4eb
       "    </tr>\n",
       "    <tr>\n",
       "      <th>1</th>\n",
       "      <td>2</td>\n",
       "      <td>2.0</td>\n",
       "      <td>2.956168</td>\n",
       "      <td>11374</td>\n",
       "      <td>Queens County</td>\n",
       "      <td>EXP Realty</td>\n",
       "      <td>Condo for sale</td>\n",
       "      <td>13.422469</td>\n",
<<<<<<< HEAD
=======
       "      <td>40.732471</td>\n",
       "      <td>-73.867080</td>\n",
>>>>>>> dc970641f1b7ca4e7d277fac96f5eba90880a4eb
       "    </tr>\n",
       "    <tr>\n",
       "      <th>2</th>\n",
       "      <td>3</td>\n",
       "      <td>2.0</td>\n",
       "      <td>3.229426</td>\n",
       "      <td>10305</td>\n",
       "      <td>Richmond County</td>\n",
       "      <td>Momentum Real Estate LLC</td>\n",
       "      <td>Multi-family home for sale</td>\n",
       "      <td>13.652993</td>\n",
<<<<<<< HEAD
=======
       "      <td>40.587072</td>\n",
       "      <td>-74.094436</td>\n",
>>>>>>> dc970641f1b7ca4e7d277fac96f5eba90880a4eb
       "    </tr>\n",
       "    <tr>\n",
       "      <th>3</th>\n",
       "      <td>2</td>\n",
       "      <td>1.0</td>\n",
       "      <td>3.339294</td>\n",
       "      <td>10025</td>\n",
       "      <td>New York</td>\n",
       "      <td>COMPASS</td>\n",
       "      <td>Co-op for sale</td>\n",
       "      <td>13.623140</td>\n",
<<<<<<< HEAD
=======
       "      <td>40.799157</td>\n",
       "      <td>-73.969032</td>\n",
>>>>>>> dc970641f1b7ca4e7d277fac96f5eba90880a4eb
       "    </tr>\n",
       "    <tr>\n",
       "      <th>4</th>\n",
       "      <td>3</td>\n",
       "      <td>1.0</td>\n",
       "      <td>2.698970</td>\n",
       "      <td>10034</td>\n",
       "      <td>New York</td>\n",
       "      <td>New Heights Realty</td>\n",
       "      <td>Co-op for sale</td>\n",
       "      <td>12.425212</td>\n",
<<<<<<< HEAD
=======
       "      <td>40.871796</td>\n",
       "      <td>-73.916064</td>\n",
>>>>>>> dc970641f1b7ca4e7d277fac96f5eba90880a4eb
       "    </tr>\n",
       "    <tr>\n",
       "      <th>5</th>\n",
       "      <td>6</td>\n",
       "      <td>3.0</td>\n",
       "      <td>3.339294</td>\n",
       "      <td>11413</td>\n",
       "      <td>Queens County</td>\n",
       "      <td>Keller Williams Legendary</td>\n",
       "      <td>Multi-family home for sale</td>\n",
       "      <td>15.176487</td>\n",
<<<<<<< HEAD
=======
       "      <td>40.663241</td>\n",
       "      <td>-73.762529</td>\n",
>>>>>>> dc970641f1b7ca4e7d277fac96f5eba90880a4eb
       "    </tr>\n",
       "    <tr>\n",
       "      <th>6</th>\n",
       "      <td>2</td>\n",
       "      <td>1.0</td>\n",
       "      <td>2.977724</td>\n",
       "      <td>11223</td>\n",
       "      <td>Brooklyn</td>\n",
       "      <td>eXp Realty BKNY</td>\n",
       "      <td>Co-op for sale</td>\n",
       "      <td>12.703816</td>\n",
<<<<<<< HEAD
=======
       "      <td>40.591141</td>\n",
       "      <td>-73.967677</td>\n",
>>>>>>> dc970641f1b7ca4e7d277fac96f5eba90880a4eb
       "    </tr>\n",
       "    <tr>\n",
       "      <th>7</th>\n",
       "      <td>2</td>\n",
       "      <td>2.0</td>\n",
       "      <td>2.954243</td>\n",
       "      <td>11372</td>\n",
       "      <td>Queens</td>\n",
       "      <td>Other</td>\n",
       "      <td>Co-op for sale</td>\n",
       "      <td>12.506181</td>\n",
<<<<<<< HEAD
=======
       "      <td>40.756279</td>\n",
       "      <td>-73.875805</td>\n",
>>>>>>> dc970641f1b7ca4e7d277fac96f5eba90880a4eb
       "    </tr>\n",
       "    <tr>\n",
       "      <th>8</th>\n",
       "      <td>4</td>\n",
       "      <td>4.0</td>\n",
       "      <td>3.533009</td>\n",
       "      <td>11231</td>\n",
       "      <td>Kings County</td>\n",
       "      <td>COMPASS</td>\n",
       "      <td>Townhouse for sale</td>\n",
       "      <td>15.200554</td>\n",
<<<<<<< HEAD
=======
       "      <td>40.685709</td>\n",
       "      <td>-74.003264</td>\n",
>>>>>>> dc970641f1b7ca4e7d277fac96f5eba90880a4eb
       "    </tr>\n",
       "    <tr>\n",
       "      <th>9</th>\n",
       "      <td>3</td>\n",
       "      <td>1.0</td>\n",
       "      <td>3.339294</td>\n",
       "      <td>10014</td>\n",
       "      <td>New York</td>\n",
       "      <td>COMPASS</td>\n",
       "      <td>Co-op for sale</td>\n",
       "      <td>13.586099</td>\n",
<<<<<<< HEAD
=======
       "      <td>40.734599</td>\n",
       "      <td>-74.007273</td>\n",
>>>>>>> dc970641f1b7ca4e7d277fac96f5eba90880a4eb
       "    </tr>\n",
       "  </tbody>\n",
       "</table>\n",
       "</div>"
      ],
      "text/plain": [
       "   BEDS  BATH  SQFT_LOG ZIPCODE      SUBLOCALITY                BROKERTITLE  \\\n",
       "0     3   1.0  3.339294   10021         New York         Corcoran West Side   \n",
       "1     2   2.0  2.956168   11374    Queens County                 EXP Realty   \n",
       "2     3   2.0  3.229426   10305  Richmond County   Momentum Real Estate LLC   \n",
       "3     2   1.0  3.339294   10025         New York                    COMPASS   \n",
       "4     3   1.0  2.698970   10034         New York         New Heights Realty   \n",
       "5     6   3.0  3.339294   11413    Queens County  Keller Williams Legendary   \n",
       "6     2   1.0  2.977724   11223         Brooklyn            eXp Realty BKNY   \n",
       "7     2   2.0  2.954243   11372           Queens                      Other   \n",
       "8     4   4.0  3.533009   11231     Kings County                    COMPASS   \n",
       "9     3   1.0  3.339294   10014         New York                    COMPASS   \n",
       "\n",
<<<<<<< HEAD
       "                         TYPE  PRICE_LOG  \n",
       "0              Co-op for sale  12.936036  \n",
       "1              Condo for sale  13.422469  \n",
       "2  Multi-family home for sale  13.652993  \n",
       "3              Co-op for sale  13.623140  \n",
       "4              Co-op for sale  12.425212  \n",
       "5  Multi-family home for sale  15.176487  \n",
       "6              Co-op for sale  12.703816  \n",
       "7              Co-op for sale  12.506181  \n",
       "8          Townhouse for sale  15.200554  \n",
       "9              Co-op for sale  13.586099  "
      ]
     },
     "execution_count": 20,
=======
       "                         TYPE  PRICE_LOG   LATITUDE  LONGITUDE  \n",
       "0              Co-op for sale  12.936036  40.767820 -73.959425  \n",
       "1              Condo for sale  13.422469  40.732471 -73.867080  \n",
       "2  Multi-family home for sale  13.652993  40.587072 -74.094436  \n",
       "3              Co-op for sale  13.623140  40.799157 -73.969032  \n",
       "4              Co-op for sale  12.425212  40.871796 -73.916064  \n",
       "5  Multi-family home for sale  15.176487  40.663241 -73.762529  \n",
       "6              Co-op for sale  12.703816  40.591141 -73.967677  \n",
       "7              Co-op for sale  12.506181  40.756279 -73.875805  \n",
       "8          Townhouse for sale  15.200554  40.685709 -74.003264  \n",
       "9              Co-op for sale  13.586099  40.734599 -74.007273  "
      ]
     },
     "execution_count": 234,
>>>>>>> dc970641f1b7ca4e7d277fac96f5eba90880a4eb
     "metadata": {},
     "output_type": "execute_result"
    }
   ],
   "source": [
    "df_proccessed = df_prep_2.reset_index(drop=True)\n",
    "df_proccessed.head(10)"
   ]
  },
  {
   "cell_type": "markdown",
   "metadata": {},
   "source": [
    "Kategoryzujemy ceny nieruchomości"
   ]
  },
  {
   "cell_type": "code",
<<<<<<< HEAD
   "execution_count": 21,
=======
   "execution_count": 235,
   "metadata": {},
   "outputs": [
    {
     "data": {
      "text/plain": [
       "<Axes: >"
      ]
     },
     "execution_count": 235,
     "metadata": {},
     "output_type": "execute_result"
    },
    {
     "data": {
      "image/png": "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",
      "text/plain": [
       "<Figure size 640x480 with 1 Axes>"
      ]
     },
     "metadata": {},
     "output_type": "display_data"
    }
   ],
   "source": [
    "df_proccessed['PRICE_LOG'].hist(bins=100)"
   ]
  },
  {
   "cell_type": "code",
   "execution_count": 236,
>>>>>>> dc970641f1b7ca4e7d277fac96f5eba90880a4eb
   "metadata": {},
   "outputs": [
    {
     "data": {
      "text/html": [
       "<div>\n",
       "<style scoped>\n",
       "    .dataframe tbody tr th:only-of-type {\n",
       "        vertical-align: middle;\n",
       "    }\n",
       "\n",
       "    .dataframe tbody tr th {\n",
       "        vertical-align: top;\n",
       "    }\n",
       "\n",
       "    .dataframe thead th {\n",
       "        text-align: right;\n",
       "    }\n",
       "</style>\n",
       "<table border=\"1\" class=\"dataframe\">\n",
       "  <thead>\n",
       "    <tr style=\"text-align: right;\">\n",
       "      <th></th>\n",
       "      <th>BEDS</th>\n",
       "      <th>BATH</th>\n",
       "      <th>SQFT_LOG</th>\n",
       "      <th>ZIPCODE</th>\n",
       "      <th>SUBLOCALITY</th>\n",
       "      <th>BROKERTITLE</th>\n",
       "      <th>TYPE</th>\n",
       "      <th>PRICE_LOG</th>\n",
<<<<<<< HEAD
=======
       "      <th>LATITUDE</th>\n",
       "      <th>LONGITUDE</th>\n",
>>>>>>> dc970641f1b7ca4e7d277fac96f5eba90880a4eb
       "      <th>PRICE_CATEGORY</th>\n",
       "    </tr>\n",
       "  </thead>\n",
       "  <tbody>\n",
       "    <tr>\n",
       "      <th>0</th>\n",
       "      <td>3</td>\n",
       "      <td>1.0</td>\n",
       "      <td>3.339294</td>\n",
       "      <td>10021</td>\n",
       "      <td>New York</td>\n",
       "      <td>Corcoran West Side</td>\n",
       "      <td>Co-op for sale</td>\n",
       "      <td>12.936036</td>\n",
<<<<<<< HEAD
=======
       "      <td>40.767820</td>\n",
       "      <td>-73.959425</td>\n",
>>>>>>> dc970641f1b7ca4e7d277fac96f5eba90880a4eb
       "      <td>Cheap</td>\n",
       "    </tr>\n",
       "    <tr>\n",
       "      <th>1</th>\n",
       "      <td>2</td>\n",
       "      <td>2.0</td>\n",
       "      <td>2.956168</td>\n",
       "      <td>11374</td>\n",
       "      <td>Queens County</td>\n",
       "      <td>EXP Realty</td>\n",
       "      <td>Condo for sale</td>\n",
       "      <td>13.422469</td>\n",
<<<<<<< HEAD
=======
       "      <td>40.732471</td>\n",
       "      <td>-73.867080</td>\n",
>>>>>>> dc970641f1b7ca4e7d277fac96f5eba90880a4eb
       "      <td>Mid</td>\n",
       "    </tr>\n",
       "    <tr>\n",
       "      <th>2</th>\n",
       "      <td>3</td>\n",
       "      <td>2.0</td>\n",
       "      <td>3.229426</td>\n",
       "      <td>10305</td>\n",
       "      <td>Richmond County</td>\n",
       "      <td>Momentum Real Estate LLC</td>\n",
       "      <td>Multi-family home for sale</td>\n",
       "      <td>13.652993</td>\n",
<<<<<<< HEAD
=======
       "      <td>40.587072</td>\n",
       "      <td>-74.094436</td>\n",
>>>>>>> dc970641f1b7ca4e7d277fac96f5eba90880a4eb
       "      <td>Mid</td>\n",
       "    </tr>\n",
       "    <tr>\n",
       "      <th>3</th>\n",
       "      <td>2</td>\n",
       "      <td>1.0</td>\n",
       "      <td>3.339294</td>\n",
       "      <td>10025</td>\n",
       "      <td>New York</td>\n",
       "      <td>COMPASS</td>\n",
       "      <td>Co-op for sale</td>\n",
       "      <td>13.623140</td>\n",
<<<<<<< HEAD
=======
       "      <td>40.799157</td>\n",
       "      <td>-73.969032</td>\n",
>>>>>>> dc970641f1b7ca4e7d277fac96f5eba90880a4eb
       "      <td>Mid</td>\n",
       "    </tr>\n",
       "    <tr>\n",
       "      <th>4</th>\n",
       "      <td>3</td>\n",
       "      <td>1.0</td>\n",
       "      <td>2.698970</td>\n",
       "      <td>10034</td>\n",
       "      <td>New York</td>\n",
       "      <td>New Heights Realty</td>\n",
       "      <td>Co-op for sale</td>\n",
       "      <td>12.425212</td>\n",
<<<<<<< HEAD
=======
       "      <td>40.871796</td>\n",
       "      <td>-73.916064</td>\n",
>>>>>>> dc970641f1b7ca4e7d277fac96f5eba90880a4eb
       "      <td>Cheap</td>\n",
       "    </tr>\n",
       "    <tr>\n",
       "      <th>5</th>\n",
       "      <td>6</td>\n",
       "      <td>3.0</td>\n",
       "      <td>3.339294</td>\n",
       "      <td>11413</td>\n",
       "      <td>Queens County</td>\n",
       "      <td>Keller Williams Legendary</td>\n",
       "      <td>Multi-family home for sale</td>\n",
       "      <td>15.176487</td>\n",
<<<<<<< HEAD
=======
       "      <td>40.663241</td>\n",
       "      <td>-73.762529</td>\n",
>>>>>>> dc970641f1b7ca4e7d277fac96f5eba90880a4eb
       "      <td>Expensive</td>\n",
       "    </tr>\n",
       "    <tr>\n",
       "      <th>6</th>\n",
       "      <td>2</td>\n",
       "      <td>1.0</td>\n",
       "      <td>2.977724</td>\n",
       "      <td>11223</td>\n",
       "      <td>Brooklyn</td>\n",
       "      <td>eXp Realty BKNY</td>\n",
       "      <td>Co-op for sale</td>\n",
       "      <td>12.703816</td>\n",
<<<<<<< HEAD
=======
       "      <td>40.591141</td>\n",
       "      <td>-73.967677</td>\n",
>>>>>>> dc970641f1b7ca4e7d277fac96f5eba90880a4eb
       "      <td>Cheap</td>\n",
       "    </tr>\n",
       "    <tr>\n",
       "      <th>7</th>\n",
       "      <td>2</td>\n",
       "      <td>2.0</td>\n",
       "      <td>2.954243</td>\n",
       "      <td>11372</td>\n",
       "      <td>Queens</td>\n",
       "      <td>Other</td>\n",
       "      <td>Co-op for sale</td>\n",
       "      <td>12.506181</td>\n",
<<<<<<< HEAD
=======
       "      <td>40.756279</td>\n",
       "      <td>-73.875805</td>\n",
>>>>>>> dc970641f1b7ca4e7d277fac96f5eba90880a4eb
       "      <td>Cheap</td>\n",
       "    </tr>\n",
       "    <tr>\n",
       "      <th>8</th>\n",
       "      <td>4</td>\n",
       "      <td>4.0</td>\n",
       "      <td>3.533009</td>\n",
       "      <td>11231</td>\n",
       "      <td>Kings County</td>\n",
       "      <td>COMPASS</td>\n",
       "      <td>Townhouse for sale</td>\n",
       "      <td>15.200554</td>\n",
<<<<<<< HEAD
=======
       "      <td>40.685709</td>\n",
       "      <td>-74.003264</td>\n",
>>>>>>> dc970641f1b7ca4e7d277fac96f5eba90880a4eb
       "      <td>Expensive</td>\n",
       "    </tr>\n",
       "    <tr>\n",
       "      <th>9</th>\n",
       "      <td>3</td>\n",
       "      <td>1.0</td>\n",
       "      <td>3.339294</td>\n",
       "      <td>10014</td>\n",
       "      <td>New York</td>\n",
       "      <td>COMPASS</td>\n",
       "      <td>Co-op for sale</td>\n",
       "      <td>13.586099</td>\n",
<<<<<<< HEAD
=======
       "      <td>40.734599</td>\n",
       "      <td>-74.007273</td>\n",
>>>>>>> dc970641f1b7ca4e7d277fac96f5eba90880a4eb
       "      <td>Mid</td>\n",
       "    </tr>\n",
       "  </tbody>\n",
       "</table>\n",
       "</div>"
      ],
      "text/plain": [
       "   BEDS  BATH  SQFT_LOG ZIPCODE      SUBLOCALITY                BROKERTITLE  \\\n",
       "0     3   1.0  3.339294   10021         New York         Corcoran West Side   \n",
       "1     2   2.0  2.956168   11374    Queens County                 EXP Realty   \n",
       "2     3   2.0  3.229426   10305  Richmond County   Momentum Real Estate LLC   \n",
       "3     2   1.0  3.339294   10025         New York                    COMPASS   \n",
       "4     3   1.0  2.698970   10034         New York         New Heights Realty   \n",
       "5     6   3.0  3.339294   11413    Queens County  Keller Williams Legendary   \n",
       "6     2   1.0  2.977724   11223         Brooklyn            eXp Realty BKNY   \n",
       "7     2   2.0  2.954243   11372           Queens                      Other   \n",
       "8     4   4.0  3.533009   11231     Kings County                    COMPASS   \n",
       "9     3   1.0  3.339294   10014         New York                    COMPASS   \n",
       "\n",
<<<<<<< HEAD
       "                         TYPE  PRICE_LOG PRICE_CATEGORY  \n",
       "0              Co-op for sale  12.936036          Cheap  \n",
       "1              Condo for sale  13.422469            Mid  \n",
       "2  Multi-family home for sale  13.652993            Mid  \n",
       "3              Co-op for sale  13.623140            Mid  \n",
       "4              Co-op for sale  12.425212          Cheap  \n",
       "5  Multi-family home for sale  15.176487      Expensive  \n",
       "6              Co-op for sale  12.703816          Cheap  \n",
       "7              Co-op for sale  12.506181          Cheap  \n",
       "8          Townhouse for sale  15.200554      Expensive  \n",
       "9              Co-op for sale  13.586099            Mid  "
      ]
     },
     "execution_count": 21,
=======
       "                         TYPE  PRICE_LOG   LATITUDE  LONGITUDE PRICE_CATEGORY  \n",
       "0              Co-op for sale  12.936036  40.767820 -73.959425          Cheap  \n",
       "1              Condo for sale  13.422469  40.732471 -73.867080            Mid  \n",
       "2  Multi-family home for sale  13.652993  40.587072 -74.094436            Mid  \n",
       "3              Co-op for sale  13.623140  40.799157 -73.969032            Mid  \n",
       "4              Co-op for sale  12.425212  40.871796 -73.916064          Cheap  \n",
       "5  Multi-family home for sale  15.176487  40.663241 -73.762529      Expensive  \n",
       "6              Co-op for sale  12.703816  40.591141 -73.967677          Cheap  \n",
       "7              Co-op for sale  12.506181  40.756279 -73.875805          Cheap  \n",
       "8          Townhouse for sale  15.200554  40.685709 -74.003264      Expensive  \n",
       "9              Co-op for sale  13.586099  40.734599 -74.007273            Mid  "
      ]
     },
     "execution_count": 236,
>>>>>>> dc970641f1b7ca4e7d277fac96f5eba90880a4eb
     "metadata": {},
     "output_type": "execute_result"
    }
   ],
   "source": [
<<<<<<< HEAD
    "lim_1 = df_proccessed[\"PRICE_LOG\"].quantile(.33)\n",
    "lim_2 = df_proccessed[\"PRICE_LOG\"].quantile(.66)\n",
    "\n",
=======
    "#lim_1 = df_proccessed[\"PRICE_LOG\"].quantile(.33)\n",
    "#lim_2 = df_proccessed[\"PRICE_LOG\"].quantile(.66)\n",
    "lim_1 = 13\n",
    "lim_2 = 14.5\n",
>>>>>>> dc970641f1b7ca4e7d277fac96f5eba90880a4eb
    "df_proccessed['PRICE_CATEGORY'] = pd.cut(df_proccessed['PRICE_LOG'], bins=[-float('inf'), lim_1, lim_2, float('inf')], labels=['Cheap', 'Mid', 'Expensive'])\n",
    "df_proccessed.head(10)\n"
   ]
  },
  {
<<<<<<< HEAD
=======
   "cell_type": "code",
   "execution_count": 237,
   "metadata": {},
   "outputs": [
    {
     "name": "stdout",
     "output_type": "stream",
     "text": [
      "<class 'pandas.core.frame.DataFrame'>\n",
      "RangeIndex: 3036 entries, 0 to 3035\n",
      "Data columns (total 11 columns):\n",
      " #   Column          Non-Null Count  Dtype   \n",
      "---  ------          --------------  -----   \n",
      " 0   BEDS            3036 non-null   int64   \n",
      " 1   BATH            3036 non-null   float64 \n",
      " 2   SQFT_LOG        3036 non-null   float64 \n",
      " 3   ZIPCODE         3036 non-null   object  \n",
      " 4   SUBLOCALITY     3036 non-null   object  \n",
      " 5   BROKERTITLE     3036 non-null   object  \n",
      " 6   TYPE            3036 non-null   object  \n",
      " 7   PRICE_LOG       3036 non-null   float64 \n",
      " 8   LATITUDE        3036 non-null   float64 \n",
      " 9   LONGITUDE       3036 non-null   float64 \n",
      " 10  PRICE_CATEGORY  3036 non-null   category\n",
      "dtypes: category(1), float64(5), int64(1), object(4)\n",
      "memory usage: 240.4+ KB\n"
     ]
    }
   ],
   "source": [
    "df_proccessed.info()"
   ]
  },
  {
>>>>>>> dc970641f1b7ca4e7d277fac96f5eba90880a4eb
   "cell_type": "markdown",
   "metadata": {},
   "source": [
    "Podział na zbiór do nauki i docelowy"
   ]
  },
  {
   "cell_type": "code",
<<<<<<< HEAD
   "execution_count": 22,
   "metadata": {},
   "outputs": [],
   "source": [
    "X = df_proccessed.drop(\"PRICE_CATEGORY\", axis=1)\n",
=======
   "execution_count": 238,
   "metadata": {},
   "outputs": [],
   "source": [
    "X = df_proccessed.drop([\"PRICE_CATEGORY\", ], axis=1)\n",
>>>>>>> dc970641f1b7ca4e7d277fac96f5eba90880a4eb
    "y = df_proccessed[\"PRICE_CATEGORY\"]"
   ]
  },
  {
<<<<<<< HEAD
   "cell_type": "markdown",
   "metadata": {},
   "source": [
    "Encodowanie zmiennych kategorycznych"
=======
   "cell_type": "code",
   "execution_count": null,
   "metadata": {},
   "outputs": [],
   "source": []
  },
  {
   "cell_type": "code",
   "execution_count": 239,
   "metadata": {},
   "outputs": [],
   "source": [
    "#!pip install category_encoders"
   ]
  },
  {
   "cell_type": "markdown",
   "metadata": {},
   "source": [
    "Encodowanie zmiennych kategorycznych i standaryzacja long i lat"
>>>>>>> dc970641f1b7ca4e7d277fac96f5eba90880a4eb
   ]
  },
  {
   "cell_type": "code",
<<<<<<< HEAD
   "execution_count": 23,
   "metadata": {},
   "outputs": [],
   "source": [
    "from sklearn.preprocessing import OneHotEncoder\n",
    "from sklearn.compose import ColumnTransformer\n",
    "\n",
    "to_encode = [\"ZIPCODE\", \"SUBLOCALITY\", \"BROKERTITLE\", \"TYPE\"]\n",
    "\n",
    "onehot_encoder = OneHotEncoder()\n",
    "column_transformer = ColumnTransformer([('onehot_encoder', onehot_encoder, to_encode)], remainder='passthrough')\n",
    "\n",
    "X_encoded = column_transformer.fit_transform(X)\n",
    "\n",
    "X_train, X_test, y_train, y_test = train_test_split(X_encoded, y, test_size=0.3, random_state= 42)"
=======
   "execution_count": 240,
   "metadata": {},
   "outputs": [],
   "source": [
    "from sklearn.preprocessing import LabelEncoder\n",
    "from sklearn.compose import ColumnTransformer\n",
    "label = LabelEncoder()\n",
    "\n",
    "y = label.fit_transform(y)"
   ]
  },
  {
   "cell_type": "code",
   "execution_count": 241,
   "metadata": {},
   "outputs": [],
   "source": [
    "import category_encoders as ce\n",
    "encoder = ce.TargetEncoder(cols='ZIPCODE')\n",
    "X['ZIPCODE'] = encoder.fit_transform(X['ZIPCODE'], y)\n",
    "encoder = ce.TargetEncoder(cols='BROKERTITLE')\n",
    "X['BROKERTITLE'] = encoder.fit_transform(X['BROKERTITLE'], y)"
   ]
  },
  {
   "cell_type": "code",
   "execution_count": 242,
   "metadata": {},
   "outputs": [],
   "source": [
    "from sklearn.preprocessing import OneHotEncoder, StandardScaler\n",
    "\n",
    "\n",
    "to_encode = [ \"SUBLOCALITY\",  \"TYPE\"]\n",
    "to_scale = [  'LATITUDE', 'LONGITUDE']\n",
    "standard = StandardScaler()\n",
    "onehot_encoder = OneHotEncoder()\n",
    "\n",
    "column_transformer = ColumnTransformer([('onehot_encoder', onehot_encoder, to_encode),('standard', StandardScaler(), to_scale)], remainder='passthrough')\n",
    "\n",
    "X_encoded = column_transformer.fit_transform(X)\n",
    "\n",
    "X_train, X_test, y_train, y_test = train_test_split(X_encoded, y, test_size=0.2, random_state= 42)"
>>>>>>> dc970641f1b7ca4e7d277fac96f5eba90880a4eb
   ]
  },
  {
   "cell_type": "markdown",
   "metadata": {},
   "source": [
    "## Proste modele"
   ]
  },
  {
   "cell_type": "code",
<<<<<<< HEAD
   "execution_count": 24,
=======
   "execution_count": 243,
>>>>>>> dc970641f1b7ca4e7d277fac96f5eba90880a4eb
   "metadata": {},
   "outputs": [],
   "source": [
    "from sklearn.linear_model import LogisticRegression\n",
    "from sklearn.tree import DecisionTreeClassifier\n",
<<<<<<< HEAD
    "from sklearn.ensemble import GradientBoostingClassifier\n",
    "from sklearn.svm import SVC\n",
=======
    "from sklearn.ensemble import GradientBoostingClassifier,RandomForestClassifier\n",
    "from sklearn.svm import SVC\n",
    "from sklearn.neighbors import KNeighborsClassifier\n",
>>>>>>> dc970641f1b7ca4e7d277fac96f5eba90880a4eb
    "from sklearn.metrics import accuracy_score, classification_report"
   ]
  },
  {
   "cell_type": "code",
<<<<<<< HEAD
   "execution_count": 25,
=======
   "execution_count": 244,
>>>>>>> dc970641f1b7ca4e7d277fac96f5eba90880a4eb
   "metadata": {},
   "outputs": [
    {
     "name": "stdout",
     "output_type": "stream",
     "text": [
<<<<<<< HEAD
      "0.7713347921225383\n",
      "              precision    recall  f1-score   support\n",
      "\n",
      "       Cheap       0.82      0.82      0.82       301\n",
      "   Expensive       0.85      0.81      0.83       326\n",
      "         Mid       0.64      0.68      0.66       287\n",
      "\n",
      "    accuracy                           0.77       914\n",
      "   macro avg       0.77      0.77      0.77       914\n",
      "weighted avg       0.78      0.77      0.77       914\n",
=======
      "0.8256578947368421\n",
      "              precision    recall  f1-score   support\n",
      "\n",
      "           0       0.82      0.74      0.78       146\n",
      "           1       0.80      0.74      0.77       102\n",
      "           2       0.84      0.89      0.86       360\n",
      "\n",
      "    accuracy                           0.83       608\n",
      "   macro avg       0.82      0.79      0.80       608\n",
      "weighted avg       0.82      0.83      0.82       608\n",
>>>>>>> dc970641f1b7ca4e7d277fac96f5eba90880a4eb
      "\n"
     ]
    }
   ],
   "source": [
    "model = LogisticRegression()\n",
    "model.fit(X=X_train, y= y_train)\n",
    "y_predicted = model.predict(X_test)\n",
    "accuracy = accuracy_score(y_test, y_predicted)\n",
    "print(accuracy)\n",
    "class_report = classification_report(y_test, y_predicted)\n",
    "print(class_report)"
   ]
  },
  {
   "cell_type": "code",
<<<<<<< HEAD
   "execution_count": 26,
=======
   "execution_count": 245,
>>>>>>> dc970641f1b7ca4e7d277fac96f5eba90880a4eb
   "metadata": {},
   "outputs": [
    {
     "data": {
      "text/plain": [
       "1.0"
      ]
     },
     "metadata": {},
     "output_type": "display_data"
    },
    {
     "name": "stdout",
     "output_type": "stream",
     "text": [
      "              precision    recall  f1-score   support\n",
      "\n",
<<<<<<< HEAD
      "       Cheap       1.00      1.00      1.00       301\n",
      "   Expensive       1.00      1.00      1.00       326\n",
      "         Mid       1.00      1.00      1.00       287\n",
      "\n",
      "    accuracy                           1.00       914\n",
      "   macro avg       1.00      1.00      1.00       914\n",
      "weighted avg       1.00      1.00      1.00       914\n",
=======
      "           0       1.00      1.00      1.00       146\n",
      "           1       1.00      1.00      1.00       102\n",
      "           2       1.00      1.00      1.00       360\n",
      "\n",
      "    accuracy                           1.00       608\n",
      "   macro avg       1.00      1.00      1.00       608\n",
      "weighted avg       1.00      1.00      1.00       608\n",
>>>>>>> dc970641f1b7ca4e7d277fac96f5eba90880a4eb
      "\n"
     ]
    }
   ],
   "source": [
    "model2 = DecisionTreeClassifier()\n",
    "model2.fit(X=X_train, y= y_train)\n",
    "y_predicted2 = model2.predict(X_test)\n",
    "accuracy2 = accuracy_score(y_test, y_predicted2)\n",
    "display(accuracy2)\n",
    "class_report2 = classification_report(y_test, y_predicted2)\n",
    "print(class_report2)"
   ]
  },
  {
   "cell_type": "code",
<<<<<<< HEAD
   "execution_count": 27,
=======
   "execution_count": 246,
>>>>>>> dc970641f1b7ca4e7d277fac96f5eba90880a4eb
   "metadata": {},
   "outputs": [
    {
     "data": {
      "text/plain": [
       "1.0"
      ]
     },
     "metadata": {},
     "output_type": "display_data"
    },
    {
     "name": "stdout",
     "output_type": "stream",
     "text": [
      "              precision    recall  f1-score   support\n",
      "\n",
<<<<<<< HEAD
      "       Cheap       1.00      1.00      1.00       301\n",
      "   Expensive       1.00      1.00      1.00       326\n",
      "         Mid       1.00      1.00      1.00       287\n",
      "\n",
      "    accuracy                           1.00       914\n",
      "   macro avg       1.00      1.00      1.00       914\n",
      "weighted avg       1.00      1.00      1.00       914\n",
=======
      "           0       1.00      1.00      1.00       146\n",
      "           1       1.00      1.00      1.00       102\n",
      "           2       1.00      1.00      1.00       360\n",
      "\n",
      "    accuracy                           1.00       608\n",
      "   macro avg       1.00      1.00      1.00       608\n",
      "weighted avg       1.00      1.00      1.00       608\n",
>>>>>>> dc970641f1b7ca4e7d277fac96f5eba90880a4eb
      "\n"
     ]
    }
   ],
   "source": [
    "model3 = GradientBoostingClassifier()\n",
    "model3.fit(X=X_train, y= y_train)\n",
<<<<<<< HEAD
    "y_predicted2 = model3.predict(X_test)\n",
    "accuracy2 = accuracy_score(y_test, y_predicted2)\n",
    "display(accuracy2)\n",
    "class_report2 = classification_report(y_test, y_predicted2)\n",
    "print(class_report2)"
=======
    "y_predicted3 = model3.predict(X_test)\n",
    "accuracy3 = accuracy_score(y_test, y_predicted3)\n",
    "display(accuracy3)\n",
    "class_report3 = classification_report(y_test, y_predicted3)\n",
    "print(class_report3)"
>>>>>>> dc970641f1b7ca4e7d277fac96f5eba90880a4eb
   ]
  },
  {
   "cell_type": "code",
<<<<<<< HEAD
   "execution_count": 28,
=======
   "execution_count": 247,
   "metadata": {},
   "outputs": [
    {
     "data": {
      "text/plain": [
       "0.9111842105263158"
      ]
     },
     "metadata": {},
     "output_type": "display_data"
    },
    {
     "name": "stdout",
     "output_type": "stream",
     "text": [
      "              precision    recall  f1-score   support\n",
      "\n",
      "           0       0.95      0.86      0.90       146\n",
      "           1       1.00      0.74      0.85       102\n",
      "           2       0.88      0.98      0.93       360\n",
      "\n",
      "    accuracy                           0.91       608\n",
      "   macro avg       0.94      0.86      0.89       608\n",
      "weighted avg       0.92      0.91      0.91       608\n",
      "\n"
     ]
    }
   ],
   "source": [
    "model4 = SVC()\n",
    "model4.fit(X=X_train, y= y_train)\n",
    "y_predicted4 = model4.predict(X_test)\n",
    "accuracy4 = accuracy_score(y_test, y_predicted4)\n",
    "display(accuracy4)\n",
    "class_report4 = classification_report(y_test, y_predicted4)\n",
    "print(class_report4)"
   ]
  },
  {
   "cell_type": "code",
   "execution_count": 248,
   "metadata": {},
   "outputs": [
    {
     "data": {
      "text/plain": [
       "0.9046052631578947"
      ]
     },
     "metadata": {},
     "output_type": "display_data"
    },
    {
     "name": "stdout",
     "output_type": "stream",
     "text": [
      "              precision    recall  f1-score   support\n",
      "\n",
      "           0       0.93      0.84      0.88       146\n",
      "           1       0.94      0.80      0.87       102\n",
      "           2       0.89      0.96      0.92       360\n",
      "\n",
      "    accuracy                           0.90       608\n",
      "   macro avg       0.92      0.87      0.89       608\n",
      "weighted avg       0.91      0.90      0.90       608\n",
      "\n"
     ]
    }
   ],
   "source": [
    "model5 = KNeighborsClassifier()\n",
    "model5.fit(X=X_train, y= y_train)\n",
    "y_predicted5 = model5.predict(X_test)\n",
    "accuracy5 = accuracy_score(y_test, y_predicted5)\n",
    "display(accuracy5)\n",
    "class_report5 = classification_report(y_test, y_predicted5)\n",
    "print(class_report5)"
   ]
  },
  {
   "cell_type": "code",
   "execution_count": 249,
>>>>>>> dc970641f1b7ca4e7d277fac96f5eba90880a4eb
   "metadata": {},
   "outputs": [
    {
     "data": {
      "text/plain": [
       "1.0"
      ]
     },
     "metadata": {},
     "output_type": "display_data"
    },
    {
     "name": "stdout",
     "output_type": "stream",
     "text": [
      "              precision    recall  f1-score   support\n",
      "\n",
<<<<<<< HEAD
      "       Cheap       0.97      0.85      0.91       301\n",
      "   Expensive       0.99      0.82      0.90       326\n",
      "         Mid       0.73      0.97      0.83       287\n",
      "\n",
      "    accuracy                           0.87       914\n",
      "   macro avg       0.90      0.88      0.88       914\n",
      "weighted avg       0.90      0.87      0.88       914\n",
=======
      "           0       1.00      1.00      1.00       146\n",
      "           1       1.00      1.00      1.00       102\n",
      "           2       1.00      1.00      1.00       360\n",
      "\n",
      "    accuracy                           1.00       608\n",
      "   macro avg       1.00      1.00      1.00       608\n",
      "weighted avg       1.00      1.00      1.00       608\n",
>>>>>>> dc970641f1b7ca4e7d277fac96f5eba90880a4eb
      "\n"
     ]
    }
   ],
   "source": [
<<<<<<< HEAD
    "model4 = SVC()\n",
    "model4.fit(X=X_train, y= y_train)\n",
    "y_predicted3 = model4.predict(X_test)\n",
    "accuracy3 = accuracy_score(y_test, y_predicted2)\n",
    "display(accuracy3)\n",
    "class_report3 = classification_report(y_test, y_predicted3)\n",
    "print(class_report3)"
=======
    "model6 = RandomForestClassifier()\n",
    "model6.fit(X=X_train, y= y_train)\n",
    "y_predicted6 = model6.predict(X_test)\n",
    "accuracy6 = accuracy_score(y_test, y_predicted6)\n",
    "display(accuracy6)\n",
    "class_report6 = classification_report(y_test, y_predicted6)\n",
    "print(class_report6)"
>>>>>>> dc970641f1b7ca4e7d277fac96f5eba90880a4eb
   ]
  }
 ],
 "metadata": {
  "kernelspec": {
   "display_name": "Python 3",
   "language": "python",
   "name": "python3"
  },
  "language_info": {
   "codemirror_mode": {
    "name": "ipython",
    "version": 3
   },
   "file_extension": ".py",
   "mimetype": "text/x-python",
   "name": "python",
   "nbconvert_exporter": "python",
   "pygments_lexer": "ipython3",
<<<<<<< HEAD
   "version": "3.9.13"
=======
   "version": "3.10.11"
>>>>>>> dc970641f1b7ca4e7d277fac96f5eba90880a4eb
  }
 },
 "nbformat": 4,
 "nbformat_minor": 2
}
