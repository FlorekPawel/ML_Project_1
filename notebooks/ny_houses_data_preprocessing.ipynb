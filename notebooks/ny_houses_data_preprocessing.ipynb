{
 "cells": [
  {
   "cell_type": "code",
   "execution_count": 1,
   "metadata": {},
   "outputs": [],
   "source": [
    "import pandas as pd\n",
    "import numpy as np\n",
    "import seaborn as sns\n",
    "import matplotlib.pyplot as plt\n",
    "import warnings\n",
    "warnings.filterwarnings('ignore')\n",
    "from sklearn.model_selection import train_test_split"
   ]
  },
  {
   "cell_type": "code",
   "execution_count": 2,
   "metadata": {},
   "outputs": [],
   "source": [
    "df = pd.read_csv(\"C:/PW/Semestr 4/ML/Projekt 1/data/learning_data.csv\")"
   ]
  },
  {
   "cell_type": "markdown",
   "metadata": {},
   "source": [
    "## **Preprocessing danych**"
   ]
  },
  {
   "cell_type": "code",
   "execution_count": 3,
   "metadata": {},
   "outputs": [
    {
     "data": {
      "text/html": [
       "<div>\n",
       "<style scoped>\n",
       "    .dataframe tbody tr th:only-of-type {\n",
       "        vertical-align: middle;\n",
       "    }\n",
       "\n",
       "    .dataframe tbody tr th {\n",
       "        vertical-align: top;\n",
       "    }\n",
       "\n",
       "    .dataframe thead th {\n",
       "        text-align: right;\n",
       "    }\n",
       "</style>\n",
       "<table border=\"1\" class=\"dataframe\">\n",
       "  <thead>\n",
       "    <tr style=\"text-align: right;\">\n",
       "      <th></th>\n",
       "      <th>BROKERTITLE</th>\n",
       "      <th>TYPE</th>\n",
       "      <th>PRICE</th>\n",
       "      <th>BEDS</th>\n",
       "      <th>BATH</th>\n",
       "      <th>PROPERTYSQFT</th>\n",
       "      <th>ADDRESS</th>\n",
       "      <th>STATE</th>\n",
       "      <th>MAIN_ADDRESS</th>\n",
       "      <th>ADMINISTRATIVE_AREA_LEVEL_2</th>\n",
       "      <th>LOCALITY</th>\n",
       "      <th>SUBLOCALITY</th>\n",
       "      <th>STREET_NAME</th>\n",
       "      <th>LONG_NAME</th>\n",
       "      <th>FORMATTED_ADDRESS</th>\n",
       "      <th>LATITUDE</th>\n",
       "      <th>LONGITUDE</th>\n",
       "    </tr>\n",
       "  </thead>\n",
       "  <tbody>\n",
       "    <tr>\n",
       "      <th>0</th>\n",
       "      <td>Brokered by Corcoran West Side</td>\n",
       "      <td>Co-op for sale</td>\n",
       "      <td>415000</td>\n",
       "      <td>3</td>\n",
       "      <td>1.0</td>\n",
       "      <td>2184.207862</td>\n",
       "      <td>233 E 70th St Apt 6R</td>\n",
       "      <td>New York, NY 10021</td>\n",
       "      <td>233 E 70th St Apt 6RNew York, NY 10021</td>\n",
       "      <td>New York</td>\n",
       "      <td>New York County</td>\n",
       "      <td>New York</td>\n",
       "      <td>Manhattan</td>\n",
       "      <td>233</td>\n",
       "      <td>233 E 70th St #6r, New York, NY 10021, USA</td>\n",
       "      <td>40.767820</td>\n",
       "      <td>-73.959425</td>\n",
       "    </tr>\n",
       "    <tr>\n",
       "      <th>1</th>\n",
       "      <td>Brokered by Douglas Elliman - Roslyn</td>\n",
       "      <td>Multi-family home for sale</td>\n",
       "      <td>1699000</td>\n",
       "      <td>5</td>\n",
       "      <td>5.0</td>\n",
       "      <td>2184.207862</td>\n",
       "      <td>42-11 Astoria Blvd N</td>\n",
       "      <td>Astoria, NY 11105</td>\n",
       "      <td>42-11 Astoria Blvd NAstoria, NY 11105</td>\n",
       "      <td>United States</td>\n",
       "      <td>New York</td>\n",
       "      <td>Queens County</td>\n",
       "      <td>Queens</td>\n",
       "      <td>Astoria Boulevard North</td>\n",
       "      <td>42-11 Astoria Blvd N, Astoria, NY 11105, USA</td>\n",
       "      <td>40.769148</td>\n",
       "      <td>-73.907370</td>\n",
       "    </tr>\n",
       "    <tr>\n",
       "      <th>2</th>\n",
       "      <td>Brokered by EXP Realty</td>\n",
       "      <td>Condo for sale</td>\n",
       "      <td>675000</td>\n",
       "      <td>2</td>\n",
       "      <td>2.0</td>\n",
       "      <td>904.000000</td>\n",
       "      <td>92-29 Queens Blvd Unit 7H116</td>\n",
       "      <td>Rego Park, NY 11374</td>\n",
       "      <td>92-29 Queens Blvd Unit 7H116Rego Park, NY 11374</td>\n",
       "      <td>United States</td>\n",
       "      <td>New York</td>\n",
       "      <td>Queens County</td>\n",
       "      <td>Queens</td>\n",
       "      <td>Queens Boulevard</td>\n",
       "      <td>92-29 Queens Blvd, Rego Park, NY 11374, USA</td>\n",
       "      <td>40.732471</td>\n",
       "      <td>-73.867080</td>\n",
       "    </tr>\n",
       "    <tr>\n",
       "      <th>3</th>\n",
       "      <td>Brokered by Momentum Real Estate LLC</td>\n",
       "      <td>Multi-family home for sale</td>\n",
       "      <td>850000</td>\n",
       "      <td>3</td>\n",
       "      <td>2.0</td>\n",
       "      <td>1696.000000</td>\n",
       "      <td>213 Liberty Ave</td>\n",
       "      <td>Staten Island, NY 10305</td>\n",
       "      <td>213 Liberty AveStaten Island, NY 10305</td>\n",
       "      <td>United States</td>\n",
       "      <td>New York</td>\n",
       "      <td>Richmond County</td>\n",
       "      <td>Staten Island</td>\n",
       "      <td>Liberty Avenue</td>\n",
       "      <td>213 Liberty Ave, Staten Island, NY 10305, USA</td>\n",
       "      <td>40.587072</td>\n",
       "      <td>-74.094436</td>\n",
       "    </tr>\n",
       "    <tr>\n",
       "      <th>4</th>\n",
       "      <td>Brokered by COMPASS</td>\n",
       "      <td>Co-op for sale</td>\n",
       "      <td>825000</td>\n",
       "      <td>2</td>\n",
       "      <td>1.0</td>\n",
       "      <td>2184.207862</td>\n",
       "      <td>250 W 103rd St Apt 7D</td>\n",
       "      <td>Manhattan, NY 10025</td>\n",
       "      <td>250 W 103rd St Apt 7DManhattan, NY 10025</td>\n",
       "      <td>New York</td>\n",
       "      <td>New York County</td>\n",
       "      <td>New York</td>\n",
       "      <td>Manhattan</td>\n",
       "      <td>250</td>\n",
       "      <td>250 W 103rd St Apt 7b, New York, NY 10025, USA</td>\n",
       "      <td>40.799157</td>\n",
       "      <td>-73.969032</td>\n",
       "    </tr>\n",
       "  </tbody>\n",
       "</table>\n",
       "</div>"
      ],
      "text/plain": [
       "                            BROKERTITLE                        TYPE    PRICE  \\\n",
       "0        Brokered by Corcoran West Side              Co-op for sale   415000   \n",
       "1  Brokered by Douglas Elliman - Roslyn  Multi-family home for sale  1699000   \n",
       "2                Brokered by EXP Realty              Condo for sale   675000   \n",
       "3  Brokered by Momentum Real Estate LLC  Multi-family home for sale   850000   \n",
       "4                   Brokered by COMPASS              Co-op for sale   825000   \n",
       "\n",
       "   BEDS  BATH  PROPERTYSQFT                       ADDRESS  \\\n",
       "0     3   1.0   2184.207862          233 E 70th St Apt 6R   \n",
       "1     5   5.0   2184.207862          42-11 Astoria Blvd N   \n",
       "2     2   2.0    904.000000  92-29 Queens Blvd Unit 7H116   \n",
       "3     3   2.0   1696.000000               213 Liberty Ave   \n",
       "4     2   1.0   2184.207862         250 W 103rd St Apt 7D   \n",
       "\n",
       "                     STATE                                     MAIN_ADDRESS  \\\n",
       "0       New York, NY 10021           233 E 70th St Apt 6RNew York, NY 10021   \n",
       "1        Astoria, NY 11105            42-11 Astoria Blvd NAstoria, NY 11105   \n",
       "2      Rego Park, NY 11374  92-29 Queens Blvd Unit 7H116Rego Park, NY 11374   \n",
       "3  Staten Island, NY 10305           213 Liberty AveStaten Island, NY 10305   \n",
       "4      Manhattan, NY 10025         250 W 103rd St Apt 7DManhattan, NY 10025   \n",
       "\n",
       "  ADMINISTRATIVE_AREA_LEVEL_2         LOCALITY      SUBLOCALITY  \\\n",
       "0                    New York  New York County         New York   \n",
       "1               United States         New York    Queens County   \n",
       "2               United States         New York    Queens County   \n",
       "3               United States         New York  Richmond County   \n",
       "4                    New York  New York County         New York   \n",
       "\n",
       "     STREET_NAME                LONG_NAME  \\\n",
       "0      Manhattan                      233   \n",
       "1         Queens  Astoria Boulevard North   \n",
       "2         Queens         Queens Boulevard   \n",
       "3  Staten Island           Liberty Avenue   \n",
       "4      Manhattan                      250   \n",
       "\n",
       "                                FORMATTED_ADDRESS   LATITUDE  LONGITUDE  \n",
       "0      233 E 70th St #6r, New York, NY 10021, USA  40.767820 -73.959425  \n",
       "1    42-11 Astoria Blvd N, Astoria, NY 11105, USA  40.769148 -73.907370  \n",
       "2     92-29 Queens Blvd, Rego Park, NY 11374, USA  40.732471 -73.867080  \n",
       "3   213 Liberty Ave, Staten Island, NY 10305, USA  40.587072 -74.094436  \n",
       "4  250 W 103rd St Apt 7b, New York, NY 10025, USA  40.799157 -73.969032  "
      ]
     },
     "execution_count": 3,
     "metadata": {},
     "output_type": "execute_result"
    }
   ],
   "source": [
    "df.head(5)"
   ]
  },
  {
   "cell_type": "code",
   "execution_count": 4,
   "metadata": {},
   "outputs": [],
   "source": [
    "df['ZIPCODE'] = df[\"STATE\"].str.extract(r'(\\b\\d{5}\\b)')"
   ]
  },
  {
   "cell_type": "code",
   "execution_count": 5,
   "metadata": {},
   "outputs": [
    {
     "data": {
      "text/plain": [
       "count      3360\n",
       "unique      175\n",
       "top       11375\n",
       "freq         72\n",
       "Name: ZIPCODE, dtype: object"
      ]
     },
     "execution_count": 5,
     "metadata": {},
     "output_type": "execute_result"
    }
   ],
   "source": [
    "df['ZIPCODE'].describe()"
   ]
  },
  {
   "cell_type": "code",
   "execution_count": 6,
   "metadata": {},
   "outputs": [
    {
     "data": {
      "text/plain": [
       "11375    72\n",
       "11235    67\n",
       "11234    66\n",
       "10463    65\n",
       "10314    59\n",
       "         ..\n",
       "10006     2\n",
       "10282     1\n",
       "10475     1\n",
       "11693     1\n",
       "10455     1\n",
       "Name: ZIPCODE, Length: 175, dtype: int64"
      ]
     },
     "execution_count": 6,
     "metadata": {},
     "output_type": "execute_result"
    }
   ],
   "source": [
    "df['ZIPCODE'].value_counts()"
   ]
  },
  {
   "cell_type": "code",
   "execution_count": 7,
   "metadata": {},
   "outputs": [
    {
     "data": {
      "text/plain": [
       "0"
      ]
     },
     "execution_count": 7,
     "metadata": {},
     "output_type": "execute_result"
    }
   ],
   "source": [
    "df['ZIPCODE'].isnull().sum()"
   ]
  },
  {
   "cell_type": "code",
   "execution_count": 8,
   "metadata": {},
   "outputs": [
    {
     "data": {
      "text/html": [
       "<div>\n",
       "<style scoped>\n",
       "    .dataframe tbody tr th:only-of-type {\n",
       "        vertical-align: middle;\n",
       "    }\n",
       "\n",
       "    .dataframe tbody tr th {\n",
       "        vertical-align: top;\n",
       "    }\n",
       "\n",
       "    .dataframe thead th {\n",
       "        text-align: right;\n",
       "    }\n",
       "</style>\n",
       "<table border=\"1\" class=\"dataframe\">\n",
       "  <thead>\n",
       "    <tr style=\"text-align: right;\">\n",
       "      <th></th>\n",
       "      <th>BEDS</th>\n",
       "      <th>BATH</th>\n",
       "      <th>PROPERTYSQFT</th>\n",
       "      <th>ZIPCODE</th>\n",
       "      <th>SUBLOCALITY</th>\n",
       "      <th>BROKERTITLE</th>\n",
       "      <th>TYPE</th>\n",
       "      <th>PRICE</th>\n",
       "      <th>LATITUDE</th>\n",
       "      <th>LONGITUDE</th>\n",
       "    </tr>\n",
       "  </thead>\n",
       "  <tbody>\n",
       "    <tr>\n",
       "      <th>0</th>\n",
       "      <td>3</td>\n",
       "      <td>1.0</td>\n",
       "      <td>2184.207862</td>\n",
       "      <td>10021</td>\n",
       "      <td>New York</td>\n",
       "      <td>Brokered by Corcoran West Side</td>\n",
       "      <td>Co-op for sale</td>\n",
       "      <td>415000</td>\n",
       "      <td>40.767820</td>\n",
       "      <td>-73.959425</td>\n",
       "    </tr>\n",
       "    <tr>\n",
       "      <th>1</th>\n",
       "      <td>5</td>\n",
       "      <td>5.0</td>\n",
       "      <td>2184.207862</td>\n",
       "      <td>11105</td>\n",
       "      <td>Queens County</td>\n",
       "      <td>Brokered by Douglas Elliman - Roslyn</td>\n",
       "      <td>Multi-family home for sale</td>\n",
       "      <td>1699000</td>\n",
       "      <td>40.769148</td>\n",
       "      <td>-73.907370</td>\n",
       "    </tr>\n",
       "    <tr>\n",
       "      <th>2</th>\n",
       "      <td>2</td>\n",
       "      <td>2.0</td>\n",
       "      <td>904.000000</td>\n",
       "      <td>11374</td>\n",
       "      <td>Queens County</td>\n",
       "      <td>Brokered by EXP Realty</td>\n",
       "      <td>Condo for sale</td>\n",
       "      <td>675000</td>\n",
       "      <td>40.732471</td>\n",
       "      <td>-73.867080</td>\n",
       "    </tr>\n",
       "    <tr>\n",
       "      <th>3</th>\n",
       "      <td>3</td>\n",
       "      <td>2.0</td>\n",
       "      <td>1696.000000</td>\n",
       "      <td>10305</td>\n",
       "      <td>Richmond County</td>\n",
       "      <td>Brokered by Momentum Real Estate LLC</td>\n",
       "      <td>Multi-family home for sale</td>\n",
       "      <td>850000</td>\n",
       "      <td>40.587072</td>\n",
       "      <td>-74.094436</td>\n",
       "    </tr>\n",
       "    <tr>\n",
       "      <th>4</th>\n",
       "      <td>2</td>\n",
       "      <td>1.0</td>\n",
       "      <td>2184.207862</td>\n",
       "      <td>10025</td>\n",
       "      <td>New York</td>\n",
       "      <td>Brokered by COMPASS</td>\n",
       "      <td>Co-op for sale</td>\n",
       "      <td>825000</td>\n",
       "      <td>40.799157</td>\n",
       "      <td>-73.969032</td>\n",
       "    </tr>\n",
       "  </tbody>\n",
       "</table>\n",
       "</div>"
      ],
      "text/plain": [
       "   BEDS  BATH  PROPERTYSQFT ZIPCODE      SUBLOCALITY  \\\n",
       "0     3   1.0   2184.207862   10021         New York   \n",
       "1     5   5.0   2184.207862   11105    Queens County   \n",
       "2     2   2.0    904.000000   11374    Queens County   \n",
       "3     3   2.0   1696.000000   10305  Richmond County   \n",
       "4     2   1.0   2184.207862   10025         New York   \n",
       "\n",
       "                            BROKERTITLE                        TYPE    PRICE  \\\n",
       "0        Brokered by Corcoran West Side              Co-op for sale   415000   \n",
       "1  Brokered by Douglas Elliman - Roslyn  Multi-family home for sale  1699000   \n",
       "2                Brokered by EXP Realty              Condo for sale   675000   \n",
       "3  Brokered by Momentum Real Estate LLC  Multi-family home for sale   850000   \n",
       "4                   Brokered by COMPASS              Co-op for sale   825000   \n",
       "\n",
       "    LATITUDE  LONGITUDE  \n",
       "0  40.767820 -73.959425  \n",
       "1  40.769148 -73.907370  \n",
       "2  40.732471 -73.867080  \n",
       "3  40.587072 -74.094436  \n",
       "4  40.799157 -73.969032  "
      ]
     },
     "execution_count": 8,
     "metadata": {},
     "output_type": "execute_result"
    }
   ],
   "source": [
    "df_prep = df[['BEDS', 'BATH', 'PROPERTYSQFT', 'ZIPCODE', 'SUBLOCALITY', 'BROKERTITLE', 'TYPE', 'PRICE', 'LATITUDE', 'LONGITUDE']]\n",
    "df_prep.head(5)"
   ]
  },
  {
   "cell_type": "markdown",
   "metadata": {},
   "source": [
    "### Dane liczbowe"
   ]
  },
  {
   "cell_type": "markdown",
   "metadata": {},
   "source": [
    "Usuńmy outliery z Price, gdzie rozkład jest zbliżony do normalnego (zasada 3 $\\sigma$)"
   ]
  },
  {
   "cell_type": "code",
   "execution_count": 9,
   "metadata": {},
   "outputs": [
    {
     "name": "stdout",
     "output_type": "stream",
     "text": [
      "Przed: 3360\n",
      "Po: 3324\n"
     ]
    }
   ],
   "source": [
    "df_prep['PRICE_LOG'] = np.log1p(df_prep['PRICE'])\n",
    "print(f'Przed: { df.shape[0]}')\n",
    "mean_pr = df_prep['PRICE_LOG'].mean()\n",
    "std_pr = df_prep['PRICE_LOG'].std()\n",
    "lower = mean_pr - 3 * std_pr\n",
    "upper = mean_pr + 3 * std_pr\n",
    "df_prep = df_prep[(df_prep['PRICE_LOG'] >= lower) & (df_prep['PRICE_LOG'] <= upper)]\n",
    "print(f'Po: { df_prep.shape[0]}')"
   ]
  },
  {
   "cell_type": "markdown",
   "metadata": {},
   "source": [
    "Usuwamy outliery ze zmiennych BEDS i BATH"
   ]
  },
  {
   "cell_type": "code",
   "execution_count": 10,
   "metadata": {},
   "outputs": [
    {
     "name": "stdout",
     "output_type": "stream",
     "text": [
      "Wejściowy rozmiar:  3324\n",
      "Wyjściowy rozmiar:  3181\n"
     ]
    }
   ],
   "source": [
    "print('Wejściowy rozmiar: ', df_prep.shape[0])\n",
    "\n",
    "upper_lim = df_prep['BEDS'].quantile(0.95)\n",
    "df_prep = df_prep[(df_prep['BEDS'] <= upper_lim)]\n",
    "\n",
    "print('Wyjściowy rozmiar: ', df_prep.shape[0])"
   ]
  },
  {
   "cell_type": "code",
   "execution_count": 11,
   "metadata": {},
   "outputs": [
    {
     "name": "stdout",
     "output_type": "stream",
     "text": [
      "Wejściowy rozmiar:  3181\n",
      "Wyjściowy rozmiar:  3048\n"
     ]
    }
   ],
   "source": [
    "print('Wejściowy rozmiar: ', df_prep.shape[0])\n",
    "\n",
    "upper_lim = df_prep['BATH'].quantile(0.95)\n",
    "df_prep = df_prep[(df_prep['BATH'] <= upper_lim)]\n",
    "\n",
    "print('Wyjściowy rozmiar: ', df_prep.shape[0])"
   ]
  },
  {
   "cell_type": "code",
   "execution_count": 12,
   "metadata": {},
   "outputs": [
    {
     "name": "stdout",
     "output_type": "stream",
     "text": [
      "Przed: 3048\n",
      "Po: 3038\n"
     ]
    }
   ],
   "source": [
    "print(f'Przed: { df_prep.shape[0]}')\n",
    "\n",
    "mean_pr = df_prep['PROPERTYSQFT'].mean()\n",
    "std_pr = df_prep['PROPERTYSQFT'].std()\n",
    "upper = mean_pr + 3 * std_pr\n",
    "df_prep = df_prep[(df['PROPERTYSQFT'] <= upper) ]\n",
    "print(f'Po: { df_prep.shape[0]}') "
   ]
  },
  {
   "cell_type": "code",
   "execution_count": 13,
   "metadata": {},
   "outputs": [],
   "source": [
    "df_prep['SQFT_LOG'] = np.log10(df_prep['PROPERTYSQFT'])"
   ]
  },
  {
   "cell_type": "markdown",
   "metadata": {},
   "source": [
    "Dane po usunięciu outlierów i transformacji danych"
   ]
  },
  {
   "cell_type": "code",
   "execution_count": 14,
   "metadata": {},
   "outputs": [
    {
     "data": {
      "image/png": "[encoded data removed]",
      "text/plain": [
       "<Figure size 500x1600 with 6 Axes>"
      ]
     },
     "metadata": {},
     "output_type": "display_data"
    }
   ],
   "source": [
    "fig, axes = plt.subplots(6, 1, figsize= (5, 16))\n",
    "axes = axes.flatten()\n",
    "\n",
    "for i, col in enumerate([\"BEDS\", \"BATH\", \"PROPERTYSQFT\", \"SQFT_LOG\", \"PRICE\", \"PRICE_LOG\"]):\n",
    "    sns.boxplot(df_prep, x= (df_prep[col]), ax= axes[i])\n",
    "    \n",
    "plt.tight_layout() \n",
    "plt.show()"
   ]
  },
  {
   "cell_type": "code",
   "execution_count": 15,
   "metadata": {},
   "outputs": [
    {
     "data": {
      "text/plain": [
       "<AxesSubplot: >"
      ]
     },
     "execution_count": 15,
     "metadata": {},
     "output_type": "execute_result"
    },
    {
     "data": {
      "image/png": "[encoded data removed]",
      "text/plain": [
       "<Figure size 640x480 with 2 Axes>"
      ]
     },
     "metadata": {},
     "output_type": "display_data"
    }
   ],
   "source": [
    "sns.heatmap(df_prep[[\"BEDS\", \"BATH\", \"PROPERTYSQFT\", \"SQFT_LOG\", \"PRICE\", \"PRICE_LOG\"]].corr(), annot=True, cmap=\"YlGnBu\")"
   ]
  },
  {
   "cell_type": "code",
   "execution_count": 16,
   "metadata": {},
   "outputs": [],
   "source": [
    "df_prep_2 = df_prep[['BEDS', 'BATH', 'SQFT_LOG', 'ZIPCODE', 'SUBLOCALITY', 'BROKERTITLE', 'TYPE', 'PRICE_LOG','LATITUDE', 'LONGITUDE']]"
   ]
  },
  {
   "cell_type": "markdown",
   "metadata": {},
   "source": [
    "### Dane kategoryczne"
   ]
  },
  {
   "cell_type": "code",
   "execution_count": 17,
   "metadata": {},
   "outputs": [
    {
     "name": "stdout",
     "output_type": "stream",
     "text": [
      "11375    72\n",
      "11235    64\n",
      "10463    64\n",
      "11234    62\n",
      "10314    59\n",
      "         ..\n",
      "10474     1\n",
      "11433     1\n",
      "10454     1\n",
      "11693     1\n",
      "10459     1\n",
      "Name: ZIPCODE, Length: 175, dtype: int64\n",
      "Liczba ZIPCODE występujących jednokrotnie: 8\n",
      "________________________________________________________________\n",
      "New York           697\n",
      "Kings County       425\n",
      "Queens County      423\n",
      "Queens             389\n",
      "Richmond County    311\n",
      "Brooklyn           306\n",
      "Bronx County       174\n",
      "The Bronx          129\n",
      "New York County    113\n",
      "Staten Island       40\n",
      "Manhattan           17\n",
      "Flushing             4\n",
      "Riverdale            4\n",
      "Coney Island         3\n",
      "Snyder Avenue        1\n",
      "Jackson Heights      1\n",
      "Fort Hamilton        1\n",
      "Name: SUBLOCALITY, dtype: int64\n",
      "Liczba SUBLOCALITY występujących jednokrotnie: 3\n",
      "________________________________________________________________\n",
      "Brokered by COMPASS                                             287\n",
      "Brokered by Douglas Elliman - 575 Madison Ave                    71\n",
      "Brokered by Brown Harris Stevens                                 60\n",
      "Brokered by Corcoran East Side                                   53\n",
      "Brokered by RE MAX Edge                                          48\n",
      "                                                               ... \n",
      "Brokered by Nyc Elite Homes Inc                                   1\n",
      "Brokered by Jm Properties                                         1\n",
      "Brokered by Grandeur Realty, Inc.                                 1\n",
      "Brokered by Belle Maison Realty Inc                               1\n",
      "Brokered by Rising Star Realty and Property Management, Inc.      1\n",
      "Name: BROKERTITLE, Length: 809, dtype: int64\n",
      "Liczba BROKERTITLE występujących jednokrotnie: 438\n",
      "________________________________________________________________\n",
      "Co-op for sale                993\n",
      "House for sale                664\n",
      "Condo for sale                616\n",
      "Multi-family home for sale    344\n",
      "Pending                       161\n",
      "Townhouse for sale            148\n",
      "Contingent                     60\n",
      "Land for sale                  33\n",
      "For sale                        8\n",
      "Foreclosure                     7\n",
      "Condop for sale                 2\n",
      "Coming Soon                     1\n",
      "Mobile house for sale           1\n",
      "Name: TYPE, dtype: int64\n",
      "Liczba TYPE występujących jednokrotnie: 2\n",
      "________________________________________________________________\n"
     ]
    }
   ],
   "source": [
    "cat = [\"ZIPCODE\", \"SUBLOCALITY\", \"BROKERTITLE\", \"TYPE\"]\n",
    "\n",
    "for col in cat:\n",
    "    df_tmp = df_prep_2[col].value_counts()\n",
    "    print(df_tmp)\n",
    "    \n",
    "    df_tmp = df_tmp.reset_index()\n",
    "    df_tmp.columns = [col, \"count\"]\n",
    "    print(f'Liczba {col} występujących jednokrotnie:', df_tmp[df_tmp['count'] == 1].shape[0])\n",
    "    print(end= \"________________________________________________________________\\n\")"
   ]
  },
  {
   "cell_type": "markdown",
   "metadata": {},
   "source": [
    "Grupujemy pojedyńczo występujących pośredników w kategorię \"Other\""
   ]
  },
  {
   "cell_type": "code",
   "execution_count": 18,
   "metadata": {},
   "outputs": [
    {
     "data": {
      "text/plain": [
       "Index(['Master Associates Inc.', 'Project Queens LLC',\n",
       "       'GOOD WAY PROPERTIES, CORP.', 'Real Estate Top Sales Llc',\n",
       "       'Best Find Realty', 'Garden Square Realty', 'Epiphany Realty Llc',\n",
       "       'Julia Shildkret Real Estate', 'Dawning Real Estate, Inc.',\n",
       "       'Community Home Sales Inc',\n",
       "       ...\n",
       "       'Tri State Han Mi Realty Inc', 'Vantage Realty Partners',\n",
       "       'Annkey Realty, Inc.', 'Skylux Realty', 'Hall Homes Realty, Inc.',\n",
       "       'Nyc Elite Homes Inc', 'Jm Properties', 'Grandeur Realty, Inc.',\n",
       "       'Belle Maison Realty Inc',\n",
       "       'Rising Star Realty and Property Management, Inc.'],\n",
       "      dtype='object', length=438)"
      ]
     },
     "execution_count": 18,
     "metadata": {},
     "output_type": "execute_result"
    }
   ],
   "source": [
    "df_prep_2[\"BROKERTITLE\"] = df_prep_2[\"BROKERTITLE\"].str.replace(\"Brokered by \", \"\")\n",
    "small_brokers = df_prep_2[\"BROKERTITLE\"].value_counts()[df_prep_2['BROKERTITLE'].value_counts() == 1].index\n",
    "small_brokers"
   ]
  },
  {
   "cell_type": "code",
   "execution_count": 19,
   "metadata": {},
   "outputs": [
    {
     "data": {
      "text/plain": [
       "Other                                     438\n",
       "COMPASS                                   287\n",
       "Douglas Elliman - 575 Madison Ave          71\n",
       "Brown Harris Stevens                       60\n",
       "Corcoran East Side                         53\n",
       "                                         ... \n",
       "Fillmore Real Estate Fusion Team, INC.      2\n",
       "Keller Williams Points North                2\n",
       "Nexthome All Island                         2\n",
       "Soverign Homes Realty Inc                   2\n",
       "H P Greenfield Real Estate Ltd              2\n",
       "Name: BROKERTITLE, Length: 372, dtype: int64"
      ]
     },
     "execution_count": 19,
     "metadata": {},
     "output_type": "execute_result"
    }
   ],
   "source": [
    "df_prep_2[\"BROKERTITLE\"] = np.where(df_prep_2[\"BROKERTITLE\"].isin(small_brokers), 'Other', df_prep_2[\"BROKERTITLE\"])\n",
    "df_prep_2[\"BROKERTITLE\"].value_counts()"
   ]
  },
  {
   "cell_type": "markdown",
   "metadata": {},
   "source": [
    "Ponieważ typ \"Coming Soon\" nie niesie ze sobą żadnej informacji apropo typu nieruchomości postanowiliśmy usunąć tę obserwację. \\\n",
    "\"Mobile house for sale\" był w naszej opinii na tyle niezwykłym typem nieruchomości, że również został usunięty ze względu na mały wpływ na uczenie się modelu. \\\n",
    "Dodatkowo oba typy wystąpiły jednokrotnie, co tym bardziej nie ma wpływu na trening."
   ]
  },
  {
   "cell_type": "code",
   "execution_count": 20,
   "metadata": {},
   "outputs": [
    {
     "data": {
      "text/plain": [
       "Co-op for sale                993\n",
       "House for sale                664\n",
       "Condo for sale                616\n",
       "Multi-family home for sale    344\n",
       "Pending                       161\n",
       "Townhouse for sale            148\n",
       "Contingent                     60\n",
       "Land for sale                  33\n",
       "For sale                        8\n",
       "Foreclosure                     7\n",
       "Condop for sale                 2\n",
       "Name: TYPE, dtype: int64"
      ]
     },
     "execution_count": 20,
     "metadata": {},
     "output_type": "execute_result"
    }
   ],
   "source": [
    "df_prep_2.drop(labels= df_prep_2[df_prep_2[\"TYPE\"].isin([\"Coming Soon\", \"Mobile house for sale\"])].index ,axis=0, inplace=True)\n",
    "df_prep_2[\"TYPE\"].value_counts()"
   ]
  },
  {
   "cell_type": "markdown",
   "metadata": {},
   "source": [
    "Postanowiliśmy zostawić pojedyńcze obserwacje w kategoriach ZIPCODE oraz SUBLOCALITY, ponieważ w naszej opinii nawet pojedyńcze obserwacje zawierają jakąś informację dotyczącą danej dzielnicy/ulicy w mieście zwłaszcza, że te kolumny zawierają stosunkowo dokładne dane o lokalizacji danej nieruchomości."
   ]
  },
  {
   "cell_type": "markdown",
   "metadata": {},
   "source": [
    "## Kodowanie zmiennych kategorycznych"
   ]
  },
  {
   "cell_type": "code",
   "execution_count": 21,
   "metadata": {},
   "outputs": [
    {
     "data": {
      "text/html": [
       "<div>\n",
       "<style scoped>\n",
       "    .dataframe tbody tr th:only-of-type {\n",
       "        vertical-align: middle;\n",
       "    }\n",
       "\n",
       "    .dataframe tbody tr th {\n",
       "        vertical-align: top;\n",
       "    }\n",
       "\n",
       "    .dataframe thead th {\n",
       "        text-align: right;\n",
       "    }\n",
       "</style>\n",
       "<table border=\"1\" class=\"dataframe\">\n",
       "  <thead>\n",
       "    <tr style=\"text-align: right;\">\n",
       "      <th></th>\n",
       "      <th>BEDS</th>\n",
       "      <th>BATH</th>\n",
       "      <th>SQFT_LOG</th>\n",
       "      <th>ZIPCODE</th>\n",
       "      <th>SUBLOCALITY</th>\n",
       "      <th>BROKERTITLE</th>\n",
       "      <th>TYPE</th>\n",
       "      <th>PRICE_LOG</th>\n",
       "      <th>LATITUDE</th>\n",
       "      <th>LONGITUDE</th>\n",
       "    </tr>\n",
       "  </thead>\n",
       "  <tbody>\n",
       "    <tr>\n",
       "      <th>0</th>\n",
       "      <td>3</td>\n",
       "      <td>1.0</td>\n",
       "      <td>3.339294</td>\n",
       "      <td>10021</td>\n",
       "      <td>New York</td>\n",
       "      <td>Corcoran West Side</td>\n",
       "      <td>Co-op for sale</td>\n",
       "      <td>12.936036</td>\n",
       "      <td>40.767820</td>\n",
       "      <td>-73.959425</td>\n",
       "    </tr>\n",
       "    <tr>\n",
       "      <th>1</th>\n",
       "      <td>2</td>\n",
       "      <td>2.0</td>\n",
       "      <td>2.956168</td>\n",
       "      <td>11374</td>\n",
       "      <td>Queens County</td>\n",
       "      <td>EXP Realty</td>\n",
       "      <td>Condo for sale</td>\n",
       "      <td>13.422469</td>\n",
       "      <td>40.732471</td>\n",
       "      <td>-73.867080</td>\n",
       "    </tr>\n",
       "    <tr>\n",
       "      <th>2</th>\n",
       "      <td>3</td>\n",
       "      <td>2.0</td>\n",
       "      <td>3.229426</td>\n",
       "      <td>10305</td>\n",
       "      <td>Richmond County</td>\n",
       "      <td>Momentum Real Estate LLC</td>\n",
       "      <td>Multi-family home for sale</td>\n",
       "      <td>13.652993</td>\n",
       "      <td>40.587072</td>\n",
       "      <td>-74.094436</td>\n",
       "    </tr>\n",
       "    <tr>\n",
       "      <th>3</th>\n",
       "      <td>2</td>\n",
       "      <td>1.0</td>\n",
       "      <td>3.339294</td>\n",
       "      <td>10025</td>\n",
       "      <td>New York</td>\n",
       "      <td>COMPASS</td>\n",
       "      <td>Co-op for sale</td>\n",
       "      <td>13.623140</td>\n",
       "      <td>40.799157</td>\n",
       "      <td>-73.969032</td>\n",
       "    </tr>\n",
       "    <tr>\n",
       "      <th>4</th>\n",
       "      <td>3</td>\n",
       "      <td>1.0</td>\n",
       "      <td>2.698970</td>\n",
       "      <td>10034</td>\n",
       "      <td>New York</td>\n",
       "      <td>New Heights Realty</td>\n",
       "      <td>Co-op for sale</td>\n",
       "      <td>12.425212</td>\n",
       "      <td>40.871796</td>\n",
       "      <td>-73.916064</td>\n",
       "    </tr>\n",
       "    <tr>\n",
       "      <th>5</th>\n",
       "      <td>6</td>\n",
       "      <td>3.0</td>\n",
       "      <td>3.339294</td>\n",
       "      <td>11413</td>\n",
       "      <td>Queens County</td>\n",
       "      <td>Keller Williams Legendary</td>\n",
       "      <td>Multi-family home for sale</td>\n",
       "      <td>15.176487</td>\n",
       "      <td>40.663241</td>\n",
       "      <td>-73.762529</td>\n",
       "    </tr>\n",
       "    <tr>\n",
       "      <th>6</th>\n",
       "      <td>2</td>\n",
       "      <td>1.0</td>\n",
       "      <td>2.977724</td>\n",
       "      <td>11223</td>\n",
       "      <td>Brooklyn</td>\n",
       "      <td>eXp Realty BKNY</td>\n",
       "      <td>Co-op for sale</td>\n",
       "      <td>12.703816</td>\n",
       "      <td>40.591141</td>\n",
       "      <td>-73.967677</td>\n",
       "    </tr>\n",
       "    <tr>\n",
       "      <th>7</th>\n",
       "      <td>2</td>\n",
       "      <td>2.0</td>\n",
       "      <td>2.954243</td>\n",
       "      <td>11372</td>\n",
       "      <td>Queens</td>\n",
       "      <td>Other</td>\n",
       "      <td>Co-op for sale</td>\n",
       "      <td>12.506181</td>\n",
       "      <td>40.756279</td>\n",
       "      <td>-73.875805</td>\n",
       "    </tr>\n",
       "    <tr>\n",
       "      <th>8</th>\n",
       "      <td>4</td>\n",
       "      <td>4.0</td>\n",
       "      <td>3.533009</td>\n",
       "      <td>11231</td>\n",
       "      <td>Kings County</td>\n",
       "      <td>COMPASS</td>\n",
       "      <td>Townhouse for sale</td>\n",
       "      <td>15.200554</td>\n",
       "      <td>40.685709</td>\n",
       "      <td>-74.003264</td>\n",
       "    </tr>\n",
       "    <tr>\n",
       "      <th>9</th>\n",
       "      <td>3</td>\n",
       "      <td>1.0</td>\n",
       "      <td>3.339294</td>\n",
       "      <td>10014</td>\n",
       "      <td>New York</td>\n",
       "      <td>COMPASS</td>\n",
       "      <td>Co-op for sale</td>\n",
       "      <td>13.586099</td>\n",
       "      <td>40.734599</td>\n",
       "      <td>-74.007273</td>\n",
       "    </tr>\n",
       "  </tbody>\n",
       "</table>\n",
       "</div>"
      ],
      "text/plain": [
       "   BEDS  BATH  SQFT_LOG ZIPCODE      SUBLOCALITY                BROKERTITLE  \\\n",
       "0     3   1.0  3.339294   10021         New York         Corcoran West Side   \n",
       "1     2   2.0  2.956168   11374    Queens County                 EXP Realty   \n",
       "2     3   2.0  3.229426   10305  Richmond County   Momentum Real Estate LLC   \n",
       "3     2   1.0  3.339294   10025         New York                    COMPASS   \n",
       "4     3   1.0  2.698970   10034         New York         New Heights Realty   \n",
       "5     6   3.0  3.339294   11413    Queens County  Keller Williams Legendary   \n",
       "6     2   1.0  2.977724   11223         Brooklyn            eXp Realty BKNY   \n",
       "7     2   2.0  2.954243   11372           Queens                      Other   \n",
       "8     4   4.0  3.533009   11231     Kings County                    COMPASS   \n",
       "9     3   1.0  3.339294   10014         New York                    COMPASS   \n",
       "\n",
       "                         TYPE  PRICE_LOG   LATITUDE  LONGITUDE  \n",
       "0              Co-op for sale  12.936036  40.767820 -73.959425  \n",
       "1              Condo for sale  13.422469  40.732471 -73.867080  \n",
       "2  Multi-family home for sale  13.652993  40.587072 -74.094436  \n",
       "3              Co-op for sale  13.623140  40.799157 -73.969032  \n",
       "4              Co-op for sale  12.425212  40.871796 -73.916064  \n",
       "5  Multi-family home for sale  15.176487  40.663241 -73.762529  \n",
       "6              Co-op for sale  12.703816  40.591141 -73.967677  \n",
       "7              Co-op for sale  12.506181  40.756279 -73.875805  \n",
       "8          Townhouse for sale  15.200554  40.685709 -74.003264  \n",
       "9              Co-op for sale  13.586099  40.734599 -74.007273  "
      ]
     },
     "execution_count": 21,
     "metadata": {},
     "output_type": "execute_result"
    }
   ],
   "source": [
    "df_proccessed = df_prep_2.reset_index(drop=True)\n",
    "df_proccessed.head(10)"
   ]
  },
  {
   "cell_type": "markdown",
   "metadata": {},
   "source": [
    "Kategoryzujemy ceny nieruchomości"
   ]
  },
  {
   "cell_type": "code",
   "execution_count": 22,
   "metadata": {},
   "outputs": [
    {
     "data": {
      "text/plain": [
       "<AxesSubplot: >"
      ]
     },
     "execution_count": 22,
     "metadata": {},
     "output_type": "execute_result"
    },
    {
     "data": {
      "image/png": "[encoded data removed]",
      "text/plain": [
       "<Figure size 640x480 with 1 Axes>"
      ]
     },
     "metadata": {},
     "output_type": "display_data"
    }
   ],
   "source": [
    "df_proccessed['PRICE_LOG'].hist(bins=100)"
   ]
  },
  {
   "cell_type": "code",
   "execution_count": 23,
   "metadata": {},
   "outputs": [
    {
     "data": {
      "text/html": [
       "<div>\n",
       "<style scoped>\n",
       "    .dataframe tbody tr th:only-of-type {\n",
       "        vertical-align: middle;\n",
       "    }\n",
       "\n",
       "    .dataframe tbody tr th {\n",
       "        vertical-align: top;\n",
       "    }\n",
       "\n",
       "    .dataframe thead th {\n",
       "        text-align: right;\n",
       "    }\n",
       "</style>\n",
       "<table border=\"1\" class=\"dataframe\">\n",
       "  <thead>\n",
       "    <tr style=\"text-align: right;\">\n",
       "      <th></th>\n",
       "      <th>BEDS</th>\n",
       "      <th>BATH</th>\n",
       "      <th>SQFT_LOG</th>\n",
       "      <th>ZIPCODE</th>\n",
       "      <th>SUBLOCALITY</th>\n",
       "      <th>BROKERTITLE</th>\n",
       "      <th>TYPE</th>\n",
       "      <th>PRICE_LOG</th>\n",
       "      <th>LATITUDE</th>\n",
       "      <th>LONGITUDE</th>\n",
       "      <th>PRICE_CATEGORY</th>\n",
       "    </tr>\n",
       "  </thead>\n",
       "  <tbody>\n",
       "    <tr>\n",
       "      <th>0</th>\n",
       "      <td>3</td>\n",
       "      <td>1.0</td>\n",
       "      <td>3.339294</td>\n",
       "      <td>10021</td>\n",
       "      <td>New York</td>\n",
       "      <td>Corcoran West Side</td>\n",
       "      <td>Co-op for sale</td>\n",
       "      <td>12.936036</td>\n",
       "      <td>40.767820</td>\n",
       "      <td>-73.959425</td>\n",
       "      <td>Cheap</td>\n",
       "    </tr>\n",
       "    <tr>\n",
       "      <th>1</th>\n",
       "      <td>2</td>\n",
       "      <td>2.0</td>\n",
       "      <td>2.956168</td>\n",
       "      <td>11374</td>\n",
       "      <td>Queens County</td>\n",
       "      <td>EXP Realty</td>\n",
       "      <td>Condo for sale</td>\n",
       "      <td>13.422469</td>\n",
       "      <td>40.732471</td>\n",
       "      <td>-73.867080</td>\n",
       "      <td>Mid</td>\n",
       "    </tr>\n",
       "    <tr>\n",
       "      <th>2</th>\n",
       "      <td>3</td>\n",
       "      <td>2.0</td>\n",
       "      <td>3.229426</td>\n",
       "      <td>10305</td>\n",
       "      <td>Richmond County</td>\n",
       "      <td>Momentum Real Estate LLC</td>\n",
       "      <td>Multi-family home for sale</td>\n",
       "      <td>13.652993</td>\n",
       "      <td>40.587072</td>\n",
       "      <td>-74.094436</td>\n",
       "      <td>Mid</td>\n",
       "    </tr>\n",
       "    <tr>\n",
       "      <th>3</th>\n",
       "      <td>2</td>\n",
       "      <td>1.0</td>\n",
       "      <td>3.339294</td>\n",
       "      <td>10025</td>\n",
       "      <td>New York</td>\n",
       "      <td>COMPASS</td>\n",
       "      <td>Co-op for sale</td>\n",
       "      <td>13.623140</td>\n",
       "      <td>40.799157</td>\n",
       "      <td>-73.969032</td>\n",
       "      <td>Mid</td>\n",
       "    </tr>\n",
       "    <tr>\n",
       "      <th>4</th>\n",
       "      <td>3</td>\n",
       "      <td>1.0</td>\n",
       "      <td>2.698970</td>\n",
       "      <td>10034</td>\n",
       "      <td>New York</td>\n",
       "      <td>New Heights Realty</td>\n",
       "      <td>Co-op for sale</td>\n",
       "      <td>12.425212</td>\n",
       "      <td>40.871796</td>\n",
       "      <td>-73.916064</td>\n",
       "      <td>Cheap</td>\n",
       "    </tr>\n",
       "    <tr>\n",
       "      <th>5</th>\n",
       "      <td>6</td>\n",
       "      <td>3.0</td>\n",
       "      <td>3.339294</td>\n",
       "      <td>11413</td>\n",
       "      <td>Queens County</td>\n",
       "      <td>Keller Williams Legendary</td>\n",
       "      <td>Multi-family home for sale</td>\n",
       "      <td>15.176487</td>\n",
       "      <td>40.663241</td>\n",
       "      <td>-73.762529</td>\n",
       "      <td>Expensive</td>\n",
       "    </tr>\n",
       "    <tr>\n",
       "      <th>6</th>\n",
       "      <td>2</td>\n",
       "      <td>1.0</td>\n",
       "      <td>2.977724</td>\n",
       "      <td>11223</td>\n",
       "      <td>Brooklyn</td>\n",
       "      <td>eXp Realty BKNY</td>\n",
       "      <td>Co-op for sale</td>\n",
       "      <td>12.703816</td>\n",
       "      <td>40.591141</td>\n",
       "      <td>-73.967677</td>\n",
       "      <td>Cheap</td>\n",
       "    </tr>\n",
       "    <tr>\n",
       "      <th>7</th>\n",
       "      <td>2</td>\n",
       "      <td>2.0</td>\n",
       "      <td>2.954243</td>\n",
       "      <td>11372</td>\n",
       "      <td>Queens</td>\n",
       "      <td>Other</td>\n",
       "      <td>Co-op for sale</td>\n",
       "      <td>12.506181</td>\n",
       "      <td>40.756279</td>\n",
       "      <td>-73.875805</td>\n",
       "      <td>Cheap</td>\n",
       "    </tr>\n",
       "    <tr>\n",
       "      <th>8</th>\n",
       "      <td>4</td>\n",
       "      <td>4.0</td>\n",
       "      <td>3.533009</td>\n",
       "      <td>11231</td>\n",
       "      <td>Kings County</td>\n",
       "      <td>COMPASS</td>\n",
       "      <td>Townhouse for sale</td>\n",
       "      <td>15.200554</td>\n",
       "      <td>40.685709</td>\n",
       "      <td>-74.003264</td>\n",
       "      <td>Expensive</td>\n",
       "    </tr>\n",
       "    <tr>\n",
       "      <th>9</th>\n",
       "      <td>3</td>\n",
       "      <td>1.0</td>\n",
       "      <td>3.339294</td>\n",
       "      <td>10014</td>\n",
       "      <td>New York</td>\n",
       "      <td>COMPASS</td>\n",
       "      <td>Co-op for sale</td>\n",
       "      <td>13.586099</td>\n",
       "      <td>40.734599</td>\n",
       "      <td>-74.007273</td>\n",
       "      <td>Mid</td>\n",
       "    </tr>\n",
       "  </tbody>\n",
       "</table>\n",
       "</div>"
      ],
      "text/plain": [
       "   BEDS  BATH  SQFT_LOG ZIPCODE      SUBLOCALITY                BROKERTITLE  \\\n",
       "0     3   1.0  3.339294   10021         New York         Corcoran West Side   \n",
       "1     2   2.0  2.956168   11374    Queens County                 EXP Realty   \n",
       "2     3   2.0  3.229426   10305  Richmond County   Momentum Real Estate LLC   \n",
       "3     2   1.0  3.339294   10025         New York                    COMPASS   \n",
       "4     3   1.0  2.698970   10034         New York         New Heights Realty   \n",
       "5     6   3.0  3.339294   11413    Queens County  Keller Williams Legendary   \n",
       "6     2   1.0  2.977724   11223         Brooklyn            eXp Realty BKNY   \n",
       "7     2   2.0  2.954243   11372           Queens                      Other   \n",
       "8     4   4.0  3.533009   11231     Kings County                    COMPASS   \n",
       "9     3   1.0  3.339294   10014         New York                    COMPASS   \n",
       "\n",
       "                         TYPE  PRICE_LOG   LATITUDE  LONGITUDE PRICE_CATEGORY  \n",
       "0              Co-op for sale  12.936036  40.767820 -73.959425          Cheap  \n",
       "1              Condo for sale  13.422469  40.732471 -73.867080            Mid  \n",
       "2  Multi-family home for sale  13.652993  40.587072 -74.094436            Mid  \n",
       "3              Co-op for sale  13.623140  40.799157 -73.969032            Mid  \n",
       "4              Co-op for sale  12.425212  40.871796 -73.916064          Cheap  \n",
       "5  Multi-family home for sale  15.176487  40.663241 -73.762529      Expensive  \n",
       "6              Co-op for sale  12.703816  40.591141 -73.967677          Cheap  \n",
       "7              Co-op for sale  12.506181  40.756279 -73.875805          Cheap  \n",
       "8          Townhouse for sale  15.200554  40.685709 -74.003264      Expensive  \n",
       "9              Co-op for sale  13.586099  40.734599 -74.007273            Mid  "
      ]
     },
     "execution_count": 23,
     "metadata": {},
     "output_type": "execute_result"
    }
   ],
   "source": [
    "#lim_1 = df_proccessed[\"PRICE_LOG\"].quantile(.33)\n",
    "#lim_2 = df_proccessed[\"PRICE_LOG\"].quantile(.66)\n",
    "lim_1 = 13\n",
    "lim_2 = 14.5\n",
    "df_proccessed['PRICE_CATEGORY'] = pd.cut(df_proccessed['PRICE_LOG'], bins=[-float('inf'), lim_1, lim_2, float('inf')], labels=['Cheap', 'Mid', 'Expensive'])\n",
    "df_proccessed.head(10)\n"
   ]
  },
  {
   "cell_type": "code",
   "execution_count": 24,
   "metadata": {},
   "outputs": [
    {
     "name": "stdout",
     "output_type": "stream",
     "text": [
      "<class 'pandas.core.frame.DataFrame'>\n",
      "RangeIndex: 3036 entries, 0 to 3035\n",
      "Data columns (total 11 columns):\n",
      " #   Column          Non-Null Count  Dtype   \n",
      "---  ------          --------------  -----   \n",
      " 0   BEDS            3036 non-null   int64   \n",
      " 1   BATH            3036 non-null   float64 \n",
      " 2   SQFT_LOG        3036 non-null   float64 \n",
      " 3   ZIPCODE         3036 non-null   object  \n",
      " 4   SUBLOCALITY     3036 non-null   object  \n",
      " 5   BROKERTITLE     3036 non-null   object  \n",
      " 6   TYPE            3036 non-null   object  \n",
      " 7   PRICE_LOG       3036 non-null   float64 \n",
      " 8   LATITUDE        3036 non-null   float64 \n",
      " 9   LONGITUDE       3036 non-null   float64 \n",
      " 10  PRICE_CATEGORY  3036 non-null   category\n",
      "dtypes: category(1), float64(5), int64(1), object(4)\n",
      "memory usage: 240.4+ KB\n"
     ]
    }
   ],
   "source": [
    "df_proccessed.info()"
   ]
  },
  {
   "cell_type": "code",
   "execution_count": 38,
   "metadata": {},
   "outputs": [],
   "source": [
    "df_proccessed.drop(columns=[\"PRICE_LOG\"], axis= 1, inplace=True)\n",
    "df_proccessed.to_csv(\"C:/PW/Semestr 4/ML/Projekt 1/data/proccessed_data.csv\", index=False)"
   ]
  },
  {
   "cell_type": "markdown",
   "metadata": {},
   "source": [
    "Podział na zbiór do nauki i docelowy"
   ]
  },
  {
   "cell_type": "code",
   "execution_count": 26,
   "metadata": {},
   "outputs": [],
   "source": [
    "X = df_proccessed.drop([\"PRICE_CATEGORY\", ], axis=1)\n",
    "y = df_proccessed[\"PRICE_CATEGORY\"]"
   ]
  },
  {
   "cell_type": "markdown",
   "metadata": {},
   "source": [
    "Encodowanie zmiennych kategorycznych i standaryzacja long i lat"
   ]
  },
  {
   "cell_type": "code",
   "execution_count": 27,
   "metadata": {},
   "outputs": [],
   "source": [
    "from sklearn.preprocessing import LabelEncoder\n",
    "from sklearn.compose import ColumnTransformer\n",
    "label = LabelEncoder()\n",
    "\n",
    "y = label.fit_transform(y)"
   ]
  },
  {
   "cell_type": "code",
   "execution_count": 28,
   "metadata": {},
   "outputs": [],
   "source": [
    "import category_encoders as ce\n",
    "encoder = ce.TargetEncoder(cols='ZIPCODE')\n",
    "X['ZIPCODE'] = encoder.fit_transform(X['ZIPCODE'], y)\n",
    "encoder = ce.TargetEncoder(cols='BROKERTITLE')\n",
    "X['BROKERTITLE'] = encoder.fit_transform(X['BROKERTITLE'], y)"
   ]
  },
  {
   "cell_type": "code",
   "execution_count": 29,
   "metadata": {},
   "outputs": [],
   "source": [
    "from sklearn.preprocessing import OneHotEncoder, StandardScaler\n",
    "\n",
    "\n",
    "to_encode = [ \"SUBLOCALITY\",  \"TYPE\"]\n",
    "to_scale = [  'LATITUDE', 'LONGITUDE']\n",
    "standard = StandardScaler()\n",
    "onehot_encoder = OneHotEncoder()\n",
    "\n",
    "column_transformer = ColumnTransformer([('onehot_encoder', onehot_encoder, to_encode),('standard', StandardScaler(), to_scale)], remainder='passthrough')\n",
    "\n",
    "X_encoded = column_transformer.fit_transform(X)\n",
    "\n",
    "X_train, X_test, y_train, y_test = train_test_split(X_encoded, y, test_size=0.2, random_state= 42)"
   ]
  },
  {
   "cell_type": "markdown",
   "metadata": {},
   "source": [
    "## Proste modele"
   ]
  },
  {
   "cell_type": "code",
   "execution_count": 30,
   "metadata": {},
   "outputs": [],
   "source": [
    "from sklearn.linear_model import LogisticRegression\n",
    "from sklearn.tree import DecisionTreeClassifier\n",
    "from sklearn.ensemble import GradientBoostingClassifier,RandomForestClassifier\n",
    "from sklearn.svm import SVC\n",
    "from sklearn.neighbors import KNeighborsClassifier\n",
    "from sklearn.metrics import accuracy_score, classification_report"
   ]
  },
  {
   "cell_type": "code",
   "execution_count": 31,
   "metadata": {},
   "outputs": [
    {
     "name": "stdout",
     "output_type": "stream",
     "text": [
      "0.8256578947368421\n",
      "              precision    recall  f1-score   support\n",
      "\n",
      "           0       0.82      0.74      0.78       146\n",
      "           1       0.80      0.74      0.77       102\n",
      "           2       0.84      0.89      0.86       360\n",
      "\n",
      "    accuracy                           0.83       608\n",
      "   macro avg       0.82      0.79      0.80       608\n",
      "weighted avg       0.82      0.83      0.82       608\n",
      "\n"
     ]
    }
   ],
   "source": [
    "model = LogisticRegression()\n",
    "model.fit(X=X_train, y= y_train)\n",
    "y_predicted = model.predict(X_test)\n",
    "accuracy = accuracy_score(y_test, y_predicted)\n",
    "print(accuracy)\n",
    "class_report = classification_report(y_test, y_predicted)\n",
    "print(class_report)"
   ]
  },
  {
   "cell_type": "code",
   "execution_count": 32,
   "metadata": {},
   "outputs": [
    {
     "data": {
      "text/plain": [
       "1.0"
      ]
     },
     "metadata": {},
     "output_type": "display_data"
    },
    {
     "name": "stdout",
     "output_type": "stream",
     "text": [
      "              precision    recall  f1-score   support\n",
      "\n",
      "           0       1.00      1.00      1.00       146\n",
      "           1       1.00      1.00      1.00       102\n",
      "           2       1.00      1.00      1.00       360\n",
      "\n",
      "    accuracy                           1.00       608\n",
      "   macro avg       1.00      1.00      1.00       608\n",
      "weighted avg       1.00      1.00      1.00       608\n",
      "\n"
     ]
    }
   ],
   "source": [
    "model2 = DecisionTreeClassifier()\n",
    "model2.fit(X=X_train, y= y_train)\n",
    "y_predicted2 = model2.predict(X_test)\n",
    "accuracy2 = accuracy_score(y_test, y_predicted2)\n",
    "display(accuracy2)\n",
    "class_report2 = classification_report(y_test, y_predicted2)\n",
    "print(class_report2)"
   ]
  },
  {
   "cell_type": "code",
   "execution_count": 33,
   "metadata": {},
   "outputs": [
    {
     "data": {
      "text/plain": [
       "1.0"
      ]
     },
     "metadata": {},
     "output_type": "display_data"
    },
    {
     "name": "stdout",
     "output_type": "stream",
     "text": [
      "              precision    recall  f1-score   support\n",
      "\n",
      "           0       1.00      1.00      1.00       146\n",
      "           1       1.00      1.00      1.00       102\n",
      "           2       1.00      1.00      1.00       360\n",
      "\n",
      "    accuracy                           1.00       608\n",
      "   macro avg       1.00      1.00      1.00       608\n",
      "weighted avg       1.00      1.00      1.00       608\n",
      "\n"
     ]
    }
   ],
   "source": [
    "model3 = GradientBoostingClassifier()\n",
    "model3.fit(X=X_train, y= y_train)\n",
    "y_predicted3 = model3.predict(X_test)\n",
    "accuracy3 = accuracy_score(y_test, y_predicted3)\n",
    "display(accuracy3)\n",
    "class_report3 = classification_report(y_test, y_predicted3)\n",
    "print(class_report3)"
   ]
  },
  {
   "cell_type": "code",
   "execution_count": 34,
   "metadata": {},
   "outputs": [
    {
     "data": {
      "text/plain": [
       "0.9111842105263158"
      ]
     },
     "metadata": {},
     "output_type": "display_data"
    },
    {
     "name": "stdout",
     "output_type": "stream",
     "text": [
      "              precision    recall  f1-score   support\n",
      "\n",
      "           0       0.95      0.86      0.90       146\n",
      "           1       1.00      0.74      0.85       102\n",
      "           2       0.88      0.98      0.93       360\n",
      "\n",
      "    accuracy                           0.91       608\n",
      "   macro avg       0.94      0.86      0.89       608\n",
      "weighted avg       0.92      0.91      0.91       608\n",
      "\n"
     ]
    }
   ],
   "source": [
    "model4 = SVC()\n",
    "model4.fit(X=X_train, y= y_train)\n",
    "y_predicted4 = model4.predict(X_test)\n",
    "accuracy4 = accuracy_score(y_test, y_predicted4)\n",
    "display(accuracy4)\n",
    "class_report4 = classification_report(y_test, y_predicted4)\n",
    "print(class_report4)"
   ]
  },
  {
   "cell_type": "code",
   "execution_count": 35,
   "metadata": {},
   "outputs": [
    {
     "data": {
      "text/plain": [
       "0.9046052631578947"
      ]
     },
     "metadata": {},
     "output_type": "display_data"
    },
    {
     "name": "stdout",
     "output_type": "stream",
     "text": [
      "              precision    recall  f1-score   support\n",
      "\n",
      "           0       0.93      0.84      0.88       146\n",
      "           1       0.94      0.80      0.87       102\n",
      "           2       0.89      0.96      0.92       360\n",
      "\n",
      "    accuracy                           0.90       608\n",
      "   macro avg       0.92      0.87      0.89       608\n",
      "weighted avg       0.91      0.90      0.90       608\n",
      "\n"
     ]
    }
   ],
   "source": [
    "model5 = KNeighborsClassifier()\n",
    "model5.fit(X=X_train, y= y_train)\n",
    "y_predicted5 = model5.predict(X_test)\n",
    "accuracy5 = accuracy_score(y_test, y_predicted5)\n",
    "display(accuracy5)\n",
    "class_report5 = classification_report(y_test, y_predicted5)\n",
    "print(class_report5)"
   ]
  },
  {
   "cell_type": "code",
   "execution_count": 36,
   "metadata": {},
   "outputs": [
    {
     "data": {
      "text/plain": [
       "1.0"
      ]
     },
     "metadata": {},
     "output_type": "display_data"
    },
    {
     "name": "stdout",
     "output_type": "stream",
     "text": [
      "              precision    recall  f1-score   support\n",
      "\n",
      "           0       1.00      1.00      1.00       146\n",
      "           1       1.00      1.00      1.00       102\n",
      "           2       1.00      1.00      1.00       360\n",
      "\n",
      "    accuracy                           1.00       608\n",
      "   macro avg       1.00      1.00      1.00       608\n",
      "weighted avg       1.00      1.00      1.00       608\n",
      "\n"
     ]
    }
   ],
   "source": [
    "model6 = RandomForestClassifier()\n",
    "model6.fit(X=X_train, y= y_train)\n",
    "y_predicted6 = model6.predict(X_test)\n",
    "accuracy6 = accuracy_score(y_test, y_predicted6)\n",
    "display(accuracy6)\n",
    "class_report6 = classification_report(y_test, y_predicted6)\n",
    "print(class_report6)"
   ]
  }
 ],
 "metadata": {
  "kernelspec": {
   "display_name": "Python 3",
   "language": "python",
   "name": "python3"
  },
  "language_info": {
   "codemirror_mode": {
    "name": "ipython",
    "version": 3
   },
   "file_extension": ".py",
   "mimetype": "text/x-python",
   "name": "python",
   "nbconvert_exporter": "python",
   "pygments_lexer": "ipython3",
   "version": "3.9.13"
  }
 },
 "nbformat": 4,
 "nbformat_minor": 2
}
