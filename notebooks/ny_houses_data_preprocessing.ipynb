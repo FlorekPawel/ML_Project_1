{
 "cells": [
  {
   "cell_type": "code",
   "execution_count": 1,
   "metadata": {},
   "outputs": [],
   "source": [
    "import pandas as pd\n",
    "import numpy as np\n",
    "import seaborn as sns\n",
    "import matplotlib.pyplot as plt\n",
    "import warnings\n",
    "warnings.filterwarnings('ignore')\n",
    "from sklearn.model_selection import train_test_split"
   ]
  },
  {
   "cell_type": "code",
   "execution_count": 2,
   "metadata": {},
   "outputs": [],
   "source": [
    "df = pd.read_csv(\"C:/PW/Semestr 4/ML/Projekt 1/data/learning_data.csv\")"
   ]
  },
  {
   "cell_type": "markdown",
   "metadata": {},
   "source": [
    "## **Preprocessing danych**"
   ]
  },
  {
   "cell_type": "code",
   "execution_count": 3,
   "metadata": {},
   "outputs": [
    {
     "data": {
      "text/html": [
       "<div>\n",
       "<style scoped>\n",
       "    .dataframe tbody tr th:only-of-type {\n",
       "        vertical-align: middle;\n",
       "    }\n",
       "\n",
       "    .dataframe tbody tr th {\n",
       "        vertical-align: top;\n",
       "    }\n",
       "\n",
       "    .dataframe thead th {\n",
       "        text-align: right;\n",
       "    }\n",
       "</style>\n",
       "<table border=\"1\" class=\"dataframe\">\n",
       "  <thead>\n",
       "    <tr style=\"text-align: right;\">\n",
       "      <th></th>\n",
       "      <th>BROKERTITLE</th>\n",
       "      <th>TYPE</th>\n",
       "      <th>PRICE</th>\n",
       "      <th>BEDS</th>\n",
       "      <th>BATH</th>\n",
       "      <th>PROPERTYSQFT</th>\n",
       "      <th>ADDRESS</th>\n",
       "      <th>STATE</th>\n",
       "      <th>MAIN_ADDRESS</th>\n",
       "      <th>ADMINISTRATIVE_AREA_LEVEL_2</th>\n",
       "      <th>LOCALITY</th>\n",
       "      <th>SUBLOCALITY</th>\n",
       "      <th>STREET_NAME</th>\n",
       "      <th>LONG_NAME</th>\n",
       "      <th>FORMATTED_ADDRESS</th>\n",
       "      <th>LATITUDE</th>\n",
       "      <th>LONGITUDE</th>\n",
       "    </tr>\n",
       "  </thead>\n",
       "  <tbody>\n",
       "    <tr>\n",
       "      <th>0</th>\n",
       "      <td>Brokered by Corcoran West Side</td>\n",
       "      <td>Co-op for sale</td>\n",
       "      <td>415000</td>\n",
       "      <td>3</td>\n",
       "      <td>1.0</td>\n",
       "      <td>2184.207862</td>\n",
       "      <td>233 E 70th St Apt 6R</td>\n",
       "      <td>New York, NY 10021</td>\n",
       "      <td>233 E 70th St Apt 6RNew York, NY 10021</td>\n",
       "      <td>New York</td>\n",
       "      <td>New York County</td>\n",
       "      <td>New York</td>\n",
       "      <td>Manhattan</td>\n",
       "      <td>233</td>\n",
       "      <td>233 E 70th St #6r, New York, NY 10021, USA</td>\n",
       "      <td>40.767820</td>\n",
       "      <td>-73.959425</td>\n",
       "    </tr>\n",
       "    <tr>\n",
       "      <th>1</th>\n",
       "      <td>Brokered by Douglas Elliman - Roslyn</td>\n",
       "      <td>Multi-family home for sale</td>\n",
       "      <td>1699000</td>\n",
       "      <td>5</td>\n",
       "      <td>5.0</td>\n",
       "      <td>2184.207862</td>\n",
       "      <td>42-11 Astoria Blvd N</td>\n",
       "      <td>Astoria, NY 11105</td>\n",
       "      <td>42-11 Astoria Blvd NAstoria, NY 11105</td>\n",
       "      <td>United States</td>\n",
       "      <td>New York</td>\n",
       "      <td>Queens County</td>\n",
       "      <td>Queens</td>\n",
       "      <td>Astoria Boulevard North</td>\n",
       "      <td>42-11 Astoria Blvd N, Astoria, NY 11105, USA</td>\n",
       "      <td>40.769148</td>\n",
       "      <td>-73.907370</td>\n",
       "    </tr>\n",
       "    <tr>\n",
       "      <th>2</th>\n",
       "      <td>Brokered by EXP Realty</td>\n",
       "      <td>Condo for sale</td>\n",
       "      <td>675000</td>\n",
       "      <td>2</td>\n",
       "      <td>2.0</td>\n",
       "      <td>904.000000</td>\n",
       "      <td>92-29 Queens Blvd Unit 7H116</td>\n",
       "      <td>Rego Park, NY 11374</td>\n",
       "      <td>92-29 Queens Blvd Unit 7H116Rego Park, NY 11374</td>\n",
       "      <td>United States</td>\n",
       "      <td>New York</td>\n",
       "      <td>Queens County</td>\n",
       "      <td>Queens</td>\n",
       "      <td>Queens Boulevard</td>\n",
       "      <td>92-29 Queens Blvd, Rego Park, NY 11374, USA</td>\n",
       "      <td>40.732471</td>\n",
       "      <td>-73.867080</td>\n",
       "    </tr>\n",
       "    <tr>\n",
       "      <th>3</th>\n",
       "      <td>Brokered by Momentum Real Estate LLC</td>\n",
       "      <td>Multi-family home for sale</td>\n",
       "      <td>850000</td>\n",
       "      <td>3</td>\n",
       "      <td>2.0</td>\n",
       "      <td>1696.000000</td>\n",
       "      <td>213 Liberty Ave</td>\n",
       "      <td>Staten Island, NY 10305</td>\n",
       "      <td>213 Liberty AveStaten Island, NY 10305</td>\n",
       "      <td>United States</td>\n",
       "      <td>New York</td>\n",
       "      <td>Richmond County</td>\n",
       "      <td>Staten Island</td>\n",
       "      <td>Liberty Avenue</td>\n",
       "      <td>213 Liberty Ave, Staten Island, NY 10305, USA</td>\n",
       "      <td>40.587072</td>\n",
       "      <td>-74.094436</td>\n",
       "    </tr>\n",
       "    <tr>\n",
       "      <th>4</th>\n",
       "      <td>Brokered by COMPASS</td>\n",
       "      <td>Co-op for sale</td>\n",
       "      <td>825000</td>\n",
       "      <td>2</td>\n",
       "      <td>1.0</td>\n",
       "      <td>2184.207862</td>\n",
       "      <td>250 W 103rd St Apt 7D</td>\n",
       "      <td>Manhattan, NY 10025</td>\n",
       "      <td>250 W 103rd St Apt 7DManhattan, NY 10025</td>\n",
       "      <td>New York</td>\n",
       "      <td>New York County</td>\n",
       "      <td>New York</td>\n",
       "      <td>Manhattan</td>\n",
       "      <td>250</td>\n",
       "      <td>250 W 103rd St Apt 7b, New York, NY 10025, USA</td>\n",
       "      <td>40.799157</td>\n",
       "      <td>-73.969032</td>\n",
       "    </tr>\n",
       "  </tbody>\n",
       "</table>\n",
       "</div>"
      ],
      "text/plain": [
       "                            BROKERTITLE                        TYPE    PRICE  \\\n",
       "0        Brokered by Corcoran West Side              Co-op for sale   415000   \n",
       "1  Brokered by Douglas Elliman - Roslyn  Multi-family home for sale  1699000   \n",
       "2                Brokered by EXP Realty              Condo for sale   675000   \n",
       "3  Brokered by Momentum Real Estate LLC  Multi-family home for sale   850000   \n",
       "4                   Brokered by COMPASS              Co-op for sale   825000   \n",
       "\n",
       "   BEDS  BATH  PROPERTYSQFT                       ADDRESS  \\\n",
       "0     3   1.0   2184.207862          233 E 70th St Apt 6R   \n",
       "1     5   5.0   2184.207862          42-11 Astoria Blvd N   \n",
       "2     2   2.0    904.000000  92-29 Queens Blvd Unit 7H116   \n",
       "3     3   2.0   1696.000000               213 Liberty Ave   \n",
       "4     2   1.0   2184.207862         250 W 103rd St Apt 7D   \n",
       "\n",
       "                     STATE                                     MAIN_ADDRESS  \\\n",
       "0       New York, NY 10021           233 E 70th St Apt 6RNew York, NY 10021   \n",
       "1        Astoria, NY 11105            42-11 Astoria Blvd NAstoria, NY 11105   \n",
       "2      Rego Park, NY 11374  92-29 Queens Blvd Unit 7H116Rego Park, NY 11374   \n",
       "3  Staten Island, NY 10305           213 Liberty AveStaten Island, NY 10305   \n",
       "4      Manhattan, NY 10025         250 W 103rd St Apt 7DManhattan, NY 10025   \n",
       "\n",
       "  ADMINISTRATIVE_AREA_LEVEL_2         LOCALITY      SUBLOCALITY  \\\n",
       "0                    New York  New York County         New York   \n",
       "1               United States         New York    Queens County   \n",
       "2               United States         New York    Queens County   \n",
       "3               United States         New York  Richmond County   \n",
       "4                    New York  New York County         New York   \n",
       "\n",
       "     STREET_NAME                LONG_NAME  \\\n",
       "0      Manhattan                      233   \n",
       "1         Queens  Astoria Boulevard North   \n",
       "2         Queens         Queens Boulevard   \n",
       "3  Staten Island           Liberty Avenue   \n",
       "4      Manhattan                      250   \n",
       "\n",
       "                                FORMATTED_ADDRESS   LATITUDE  LONGITUDE  \n",
       "0      233 E 70th St #6r, New York, NY 10021, USA  40.767820 -73.959425  \n",
       "1    42-11 Astoria Blvd N, Astoria, NY 11105, USA  40.769148 -73.907370  \n",
       "2     92-29 Queens Blvd, Rego Park, NY 11374, USA  40.732471 -73.867080  \n",
       "3   213 Liberty Ave, Staten Island, NY 10305, USA  40.587072 -74.094436  \n",
       "4  250 W 103rd St Apt 7b, New York, NY 10025, USA  40.799157 -73.969032  "
      ]
     },
     "execution_count": 3,
     "metadata": {},
     "output_type": "execute_result"
    }
   ],
   "source": [
    "df.head(5)"
   ]
  },
  {
   "cell_type": "code",
   "execution_count": 4,
   "metadata": {},
   "outputs": [],
   "source": [
    "df['ZIPCODE'] = df[\"STATE\"].str.extract(r'(\\b\\d{5}\\b)')"
   ]
  },
  {
   "cell_type": "code",
   "execution_count": 5,
   "metadata": {},
   "outputs": [
    {
     "data": {
      "text/plain": [
       "count      3360\n",
       "unique      175\n",
       "top       11375\n",
       "freq         72\n",
       "Name: ZIPCODE, dtype: object"
      ]
     },
     "execution_count": 5,
     "metadata": {},
     "output_type": "execute_result"
    }
   ],
   "source": [
    "df['ZIPCODE'].describe()"
   ]
  },
  {
   "cell_type": "code",
   "execution_count": 6,
   "metadata": {},
   "outputs": [
    {
     "data": {
      "text/plain": [
       "11375    72\n",
       "11235    67\n",
       "11234    66\n",
       "10463    65\n",
       "10314    59\n",
       "         ..\n",
       "10006     2\n",
       "10282     1\n",
       "10475     1\n",
       "11693     1\n",
       "10455     1\n",
       "Name: ZIPCODE, Length: 175, dtype: int64"
      ]
     },
     "execution_count": 6,
     "metadata": {},
     "output_type": "execute_result"
    }
   ],
   "source": [
    "df['ZIPCODE'].value_counts()"
   ]
  },
  {
   "cell_type": "code",
   "execution_count": 7,
   "metadata": {},
   "outputs": [
    {
     "data": {
      "text/plain": [
       "0"
      ]
     },
     "execution_count": 7,
     "metadata": {},
     "output_type": "execute_result"
    }
   ],
   "source": [
    "df['ZIPCODE'].isnull().sum()"
   ]
  },
  {
   "cell_type": "code",
   "execution_count": 8,
   "metadata": {},
   "outputs": [
    {
     "data": {
      "text/html": [
       "<div>\n",
       "<style scoped>\n",
       "    .dataframe tbody tr th:only-of-type {\n",
       "        vertical-align: middle;\n",
       "    }\n",
       "\n",
       "    .dataframe tbody tr th {\n",
       "        vertical-align: top;\n",
       "    }\n",
       "\n",
       "    .dataframe thead th {\n",
       "        text-align: right;\n",
       "    }\n",
       "</style>\n",
       "<table border=\"1\" class=\"dataframe\">\n",
       "  <thead>\n",
       "    <tr style=\"text-align: right;\">\n",
       "      <th></th>\n",
       "      <th>BEDS</th>\n",
       "      <th>BATH</th>\n",
       "      <th>PROPERTYSQFT</th>\n",
       "      <th>ZIPCODE</th>\n",
       "      <th>SUBLOCALITY</th>\n",
       "      <th>BROKERTITLE</th>\n",
       "      <th>TYPE</th>\n",
       "      <th>PRICE</th>\n",
       "    </tr>\n",
       "  </thead>\n",
       "  <tbody>\n",
       "    <tr>\n",
       "      <th>0</th>\n",
       "      <td>3</td>\n",
       "      <td>1.0</td>\n",
       "      <td>2184.207862</td>\n",
       "      <td>10021</td>\n",
       "      <td>New York</td>\n",
       "      <td>Brokered by Corcoran West Side</td>\n",
       "      <td>Co-op for sale</td>\n",
       "      <td>415000</td>\n",
       "    </tr>\n",
       "    <tr>\n",
       "      <th>1</th>\n",
       "      <td>5</td>\n",
       "      <td>5.0</td>\n",
       "      <td>2184.207862</td>\n",
       "      <td>11105</td>\n",
       "      <td>Queens County</td>\n",
       "      <td>Brokered by Douglas Elliman - Roslyn</td>\n",
       "      <td>Multi-family home for sale</td>\n",
       "      <td>1699000</td>\n",
       "    </tr>\n",
       "    <tr>\n",
       "      <th>2</th>\n",
       "      <td>2</td>\n",
       "      <td>2.0</td>\n",
       "      <td>904.000000</td>\n",
       "      <td>11374</td>\n",
       "      <td>Queens County</td>\n",
       "      <td>Brokered by EXP Realty</td>\n",
       "      <td>Condo for sale</td>\n",
       "      <td>675000</td>\n",
       "    </tr>\n",
       "    <tr>\n",
       "      <th>3</th>\n",
       "      <td>3</td>\n",
       "      <td>2.0</td>\n",
       "      <td>1696.000000</td>\n",
       "      <td>10305</td>\n",
       "      <td>Richmond County</td>\n",
       "      <td>Brokered by Momentum Real Estate LLC</td>\n",
       "      <td>Multi-family home for sale</td>\n",
       "      <td>850000</td>\n",
       "    </tr>\n",
       "    <tr>\n",
       "      <th>4</th>\n",
       "      <td>2</td>\n",
       "      <td>1.0</td>\n",
       "      <td>2184.207862</td>\n",
       "      <td>10025</td>\n",
       "      <td>New York</td>\n",
       "      <td>Brokered by COMPASS</td>\n",
       "      <td>Co-op for sale</td>\n",
       "      <td>825000</td>\n",
       "    </tr>\n",
       "  </tbody>\n",
       "</table>\n",
       "</div>"
      ],
      "text/plain": [
       "   BEDS  BATH  PROPERTYSQFT ZIPCODE      SUBLOCALITY  \\\n",
       "0     3   1.0   2184.207862   10021         New York   \n",
       "1     5   5.0   2184.207862   11105    Queens County   \n",
       "2     2   2.0    904.000000   11374    Queens County   \n",
       "3     3   2.0   1696.000000   10305  Richmond County   \n",
       "4     2   1.0   2184.207862   10025         New York   \n",
       "\n",
       "                            BROKERTITLE                        TYPE    PRICE  \n",
       "0        Brokered by Corcoran West Side              Co-op for sale   415000  \n",
       "1  Brokered by Douglas Elliman - Roslyn  Multi-family home for sale  1699000  \n",
       "2                Brokered by EXP Realty              Condo for sale   675000  \n",
       "3  Brokered by Momentum Real Estate LLC  Multi-family home for sale   850000  \n",
       "4                   Brokered by COMPASS              Co-op for sale   825000  "
      ]
     },
     "execution_count": 8,
     "metadata": {},
     "output_type": "execute_result"
    }
   ],
   "source": [
    "df_prep = df[['BEDS', 'BATH', 'PROPERTYSQFT', 'ZIPCODE', 'SUBLOCALITY', 'BROKERTITLE', 'TYPE', 'PRICE']]\n",
    "df_prep.head(5)"
   ]
  },
  {
   "cell_type": "markdown",
   "metadata": {},
   "source": [
    "### Dane liczbowe"
   ]
  },
  {
   "cell_type": "markdown",
   "metadata": {},
   "source": [
    "Usuńmy outliery z Price, gdzie rozkład jest zbliżony do normalnego (zasada 3 $\\sigma$)"
   ]
  },
  {
   "cell_type": "code",
   "execution_count": 9,
   "metadata": {},
   "outputs": [
    {
     "name": "stdout",
     "output_type": "stream",
     "text": [
      "Przed: 3360\n",
      "Po: 3324\n"
     ]
    }
   ],
   "source": [
    "df_prep['PRICE_LOG'] = np.log1p(df_prep['PRICE'])\n",
    "print(f'Przed: { df.shape[0]}')\n",
    "mean_pr = df_prep['PRICE_LOG'].mean()\n",
    "std_pr = df_prep['PRICE_LOG'].std()\n",
    "lower = mean_pr - 3 * std_pr\n",
    "upper = mean_pr + 3 * std_pr\n",
    "df_prep = df_prep[(df_prep['PRICE_LOG'] >= lower) & (df_prep['PRICE_LOG'] <= upper)]\n",
    "print(f'Po: { df_prep.shape[0]}')"
   ]
  },
  {
   "cell_type": "markdown",
   "metadata": {},
   "source": [
    "Usuwamy outliery ze zmiennych BEDS i BATH"
   ]
  },
  {
   "cell_type": "code",
   "execution_count": 10,
   "metadata": {},
   "outputs": [
    {
     "name": "stdout",
     "output_type": "stream",
     "text": [
      "Wejściowy rozmiar:  3324\n",
      "Wyjściowy rozmiar:  3181\n"
     ]
    }
   ],
   "source": [
    "print('Wejściowy rozmiar: ', df_prep.shape[0])\n",
    "\n",
    "upper_lim = df_prep['BEDS'].quantile(0.95)\n",
    "df_prep = df_prep[(df_prep['BEDS'] <= upper_lim)]\n",
    "\n",
    "print('Wyjściowy rozmiar: ', df_prep.shape[0])"
   ]
  },
  {
   "cell_type": "code",
   "execution_count": 11,
   "metadata": {},
   "outputs": [
    {
     "name": "stdout",
     "output_type": "stream",
     "text": [
      "Wejściowy rozmiar:  3181\n",
      "Wyjściowy rozmiar:  3048\n"
     ]
    }
   ],
   "source": [
    "print('Wejściowy rozmiar: ', df_prep.shape[0])\n",
    "\n",
    "upper_lim = df_prep['BATH'].quantile(0.95)\n",
    "df_prep = df_prep[(df_prep['BATH'] <= upper_lim)]\n",
    "\n",
    "print('Wyjściowy rozmiar: ', df_prep.shape[0])"
   ]
  },
  {
   "cell_type": "code",
   "execution_count": 12,
   "metadata": {},
   "outputs": [],
   "source": [
    "df_prep['SQFT_LOG'] = np.log10(df_prep['PROPERTYSQFT'])"
   ]
  },
  {
   "cell_type": "markdown",
   "metadata": {},
   "source": [
    "Dane po usunięciu outlierów i transformacji danych"
   ]
  },
  {
   "cell_type": "code",
   "execution_count": 13,
   "metadata": {},
   "outputs": [
    {
     "data": {
      "image/png": "[encoded data removed]",
      "text/plain": [
       "<Figure size 500x1600 with 6 Axes>"
      ]
     },
     "metadata": {},
     "output_type": "display_data"
    }
   ],
   "source": [
    "fig, axes = plt.subplots(6, 1, figsize= (5, 16))\n",
    "axes = axes.flatten()\n",
    "\n",
    "for i, col in enumerate([\"BEDS\", \"BATH\", \"PROPERTYSQFT\", \"SQFT_LOG\", \"PRICE\", \"PRICE_LOG\"]):\n",
    "    sns.boxplot(df_prep, x= (df_prep[col]), ax= axes[i])\n",
    "    \n",
    "plt.tight_layout() \n",
    "plt.show()"
   ]
  },
  {
   "cell_type": "code",
   "execution_count": 14,
   "metadata": {},
   "outputs": [
    {
     "data": {
      "text/plain": [
       "<AxesSubplot: >"
      ]
     },
     "execution_count": 14,
     "metadata": {},
     "output_type": "execute_result"
    },
    {
     "data": {
      "image/png": "[encoded data removed]",
      "text/plain": [
       "<Figure size 640x480 with 2 Axes>"
      ]
     },
     "metadata": {},
     "output_type": "display_data"
    }
   ],
   "source": [
    "sns.heatmap(df_prep[[\"BEDS\", \"BATH\", \"PROPERTYSQFT\", \"SQFT_LOG\", \"PRICE\", \"PRICE_LOG\"]].corr(), annot=True, cmap=\"YlGnBu\")"
   ]
  },
  {
   "cell_type": "code",
   "execution_count": 15,
   "metadata": {},
   "outputs": [],
   "source": [
    "df_prep_2 = df_prep[['BEDS', 'BATH', 'SQFT_LOG', 'ZIPCODE', 'SUBLOCALITY', 'BROKERTITLE', 'TYPE', 'PRICE_LOG']]"
   ]
  },
  {
   "cell_type": "markdown",
   "metadata": {},
   "source": [
    "### Dane kategoryczne"
   ]
  },
  {
   "cell_type": "code",
   "execution_count": 16,
   "metadata": {},
   "outputs": [
    {
     "name": "stdout",
     "output_type": "stream",
     "text": [
      "11375    72\n",
      "11235    64\n",
      "10463    64\n",
      "11234    62\n",
      "10314    59\n",
      "         ..\n",
      "10474     1\n",
      "11433     1\n",
      "10454     1\n",
      "11693     1\n",
      "10459     1\n",
      "Name: ZIPCODE, Length: 175, dtype: int64\n",
      "Liczba ZIPCODE występujących jednokrotnie: 8\n",
      "________________________________________________________________\n",
      "New York           697\n",
      "Kings County       427\n",
      "Queens County      424\n",
      "Queens             389\n",
      "Richmond County    312\n",
      "Brooklyn           307\n",
      "Bronx County       176\n",
      "The Bronx          129\n",
      "New York County    116\n",
      "Staten Island       40\n",
      "Manhattan           17\n",
      "Flushing             4\n",
      "Riverdale            4\n",
      "Coney Island         3\n",
      "Snyder Avenue        1\n",
      "Jackson Heights      1\n",
      "Fort Hamilton        1\n",
      "Name: SUBLOCALITY, dtype: int64\n",
      "Liczba SUBLOCALITY występujących jednokrotnie: 3\n",
      "________________________________________________________________\n",
      "Brokered by COMPASS                                             291\n",
      "Brokered by Douglas Elliman - 575 Madison Ave                    72\n",
      "Brokered by Brown Harris Stevens                                 60\n",
      "Brokered by Corcoran East Side                                   53\n",
      "Brokered by RE MAX Edge                                          48\n",
      "                                                               ... \n",
      "Brokered by Listwithfreedom.Com, Inc.                             1\n",
      "Brokered by Accord Homes Realty                                   1\n",
      "Brokered by Jacobson Realty Ltd                                   1\n",
      "Brokered by HOT HOMES REALTY LLC.                                 1\n",
      "Brokered by Rising Star Realty and Property Management, Inc.      1\n",
      "Name: BROKERTITLE, Length: 812, dtype: int64\n",
      "Liczba BROKERTITLE występujących jednokrotnie: 440\n",
      "________________________________________________________________\n",
      "Co-op for sale                993\n",
      "House for sale                665\n",
      "Condo for sale                617\n",
      "Multi-family home for sale    348\n",
      "Pending                       161\n",
      "Townhouse for sale            152\n",
      "Contingent                     60\n",
      "Land for sale                  33\n",
      "For sale                        8\n",
      "Foreclosure                     7\n",
      "Condop for sale                 2\n",
      "Coming Soon                     1\n",
      "Mobile house for sale           1\n",
      "Name: TYPE, dtype: int64\n",
      "Liczba TYPE występujących jednokrotnie: 2\n",
      "________________________________________________________________\n"
     ]
    }
   ],
   "source": [
    "cat = [\"ZIPCODE\", \"SUBLOCALITY\", \"BROKERTITLE\", \"TYPE\"]\n",
    "\n",
    "for col in cat:\n",
    "    df_tmp = df_prep_2[col].value_counts()\n",
    "    print(df_tmp)\n",
    "    \n",
    "    df_tmp = df_tmp.reset_index()\n",
    "    df_tmp.columns = [col, \"count\"]\n",
    "    print(f'Liczba {col} występujących jednokrotnie:', df_tmp[df_tmp['count'] == 1].shape[0])\n",
    "    print(end= \"________________________________________________________________\\n\")"
   ]
  },
  {
   "cell_type": "markdown",
   "metadata": {},
   "source": [
    "Grupujemy pojedyńczo występujących pośredników w kategorię \"Other\""
   ]
  },
  {
   "cell_type": "code",
   "execution_count": 17,
   "metadata": {},
   "outputs": [
    {
     "data": {
      "text/plain": [
       "Index(['Premier Homes Pros', 'Challenger Brokers',\n",
       "       'DIGS - Digs Realty Group EMAIL)', 'Deutsch Realty',\n",
       "       'ACG REALTY NY LLC', 'Prime Properties Long Island',\n",
       "       'GLASHEN REALTY GROUP INC', 'De Luca Realty Group INC',\n",
       "       'Mitra Hakimi Realty Group LLC', 'J Home Realty LLC',\n",
       "       ...\n",
       "       'Exit Realty Prime', 'Azbel Real Estate Inc', 'Getmore Realty Inc',\n",
       "       'Buy Rite Home Sales Inc', 'Lombardo Homes & Estates',\n",
       "       'Listwithfreedom.Com, Inc.', 'Accord Homes Realty',\n",
       "       'Jacobson Realty Ltd', 'HOT HOMES REALTY LLC.',\n",
       "       'Rising Star Realty and Property Management, Inc.'],\n",
       "      dtype='object', length=440)"
      ]
     },
     "execution_count": 17,
     "metadata": {},
     "output_type": "execute_result"
    }
   ],
   "source": [
    "df_prep_2[\"BROKERTITLE\"] = df_prep_2[\"BROKERTITLE\"].str.replace(\"Brokered by \", \"\")\n",
    "small_brokers = df_prep_2[\"BROKERTITLE\"].value_counts()[df_prep_2['BROKERTITLE'].value_counts() == 1].index\n",
    "small_brokers"
   ]
  },
  {
   "cell_type": "code",
   "execution_count": 18,
   "metadata": {},
   "outputs": [
    {
     "data": {
      "text/plain": [
       "Other                                     440\n",
       "COMPASS                                   291\n",
       "Douglas Elliman - 575 Madison Ave          72\n",
       "Brown Harris Stevens                       60\n",
       "Corcoran East Side                         53\n",
       "                                         ... \n",
       "Fillmore Real Estate Fusion Team, INC.      2\n",
       "Keller Williams Points North                2\n",
       "Nexthome All Island                         2\n",
       "Soverign Homes Realty Inc                   2\n",
       "H P Greenfield Real Estate Ltd              2\n",
       "Name: BROKERTITLE, Length: 373, dtype: int64"
      ]
     },
     "execution_count": 18,
     "metadata": {},
     "output_type": "execute_result"
    }
   ],
   "source": [
    "df_prep_2[\"BROKERTITLE\"] = np.where(df_prep_2[\"BROKERTITLE\"].isin(small_brokers), 'Other', df_prep_2[\"BROKERTITLE\"])\n",
    "df_prep_2[\"BROKERTITLE\"].value_counts()"
   ]
  },
  {
   "cell_type": "markdown",
   "metadata": {},
   "source": [
    "Ponieważ typ \"Coming Soon\" nie niesie ze sobą żadnej informacji apropo typu nieruchomości postanowiliśmy usunąć tę obserwację. \\\n",
    "\"Mobile house for sale\" był w naszej opinii na tyle niezwykłym typem nieruchomości, że również został usunięty ze względu na mały wpływ na uczenie się modelu. \\\n",
    "Dodatkowo oba typy wystąpiły jednokrotnie, co tym bardziej nie ma wpływu na trening."
   ]
  },
  {
   "cell_type": "code",
   "execution_count": 19,
   "metadata": {},
   "outputs": [
    {
     "data": {
      "text/plain": [
       "Co-op for sale                993\n",
       "House for sale                665\n",
       "Condo for sale                617\n",
       "Multi-family home for sale    348\n",
       "Pending                       161\n",
       "Townhouse for sale            152\n",
       "Contingent                     60\n",
       "Land for sale                  33\n",
       "For sale                        8\n",
       "Foreclosure                     7\n",
       "Condop for sale                 2\n",
       "Name: TYPE, dtype: int64"
      ]
     },
     "execution_count": 19,
     "metadata": {},
     "output_type": "execute_result"
    }
   ],
   "source": [
    "df_prep_2.drop(labels= df_prep_2[df_prep_2[\"TYPE\"].isin([\"Coming Soon\", \"Mobile house for sale\"])].index ,axis=0, inplace=True)\n",
    "df_prep_2[\"TYPE\"].value_counts()"
   ]
  },
  {
   "cell_type": "markdown",
   "metadata": {},
   "source": [
    "Postanowiliśmy zostawić pojedyńcze obserwacje w kategoriach ZIPCODE oraz SUBLOCALITY, ponieważ w naszej opinii nawet pojedyńcze obserwacje zawierają jakąś informację dotyczącą danej dzielnicy/ulicy w mieście zwłaszcza, że te kolumny zawierają stosunkowo dokładne dane o lokalizacji danej nieruchomości."
   ]
  },
  {
   "cell_type": "markdown",
   "metadata": {},
   "source": [
    "## Kodowanie zmiennych kategorycznych"
   ]
  },
  {
   "cell_type": "code",
   "execution_count": 20,
   "metadata": {},
   "outputs": [
    {
     "data": {
      "text/html": [
       "<div>\n",
       "<style scoped>\n",
       "    .dataframe tbody tr th:only-of-type {\n",
       "        vertical-align: middle;\n",
       "    }\n",
       "\n",
       "    .dataframe tbody tr th {\n",
       "        vertical-align: top;\n",
       "    }\n",
       "\n",
       "    .dataframe thead th {\n",
       "        text-align: right;\n",
       "    }\n",
       "</style>\n",
       "<table border=\"1\" class=\"dataframe\">\n",
       "  <thead>\n",
       "    <tr style=\"text-align: right;\">\n",
       "      <th></th>\n",
       "      <th>BEDS</th>\n",
       "      <th>BATH</th>\n",
       "      <th>SQFT_LOG</th>\n",
       "      <th>ZIPCODE</th>\n",
       "      <th>SUBLOCALITY</th>\n",
       "      <th>BROKERTITLE</th>\n",
       "      <th>TYPE</th>\n",
       "      <th>PRICE_LOG</th>\n",
       "    </tr>\n",
       "  </thead>\n",
       "  <tbody>\n",
       "    <tr>\n",
       "      <th>0</th>\n",
       "      <td>3</td>\n",
       "      <td>1.0</td>\n",
       "      <td>3.339294</td>\n",
       "      <td>10021</td>\n",
       "      <td>New York</td>\n",
       "      <td>Corcoran West Side</td>\n",
       "      <td>Co-op for sale</td>\n",
       "      <td>12.936036</td>\n",
       "    </tr>\n",
       "    <tr>\n",
       "      <th>1</th>\n",
       "      <td>2</td>\n",
       "      <td>2.0</td>\n",
       "      <td>2.956168</td>\n",
       "      <td>11374</td>\n",
       "      <td>Queens County</td>\n",
       "      <td>EXP Realty</td>\n",
       "      <td>Condo for sale</td>\n",
       "      <td>13.422469</td>\n",
       "    </tr>\n",
       "    <tr>\n",
       "      <th>2</th>\n",
       "      <td>3</td>\n",
       "      <td>2.0</td>\n",
       "      <td>3.229426</td>\n",
       "      <td>10305</td>\n",
       "      <td>Richmond County</td>\n",
       "      <td>Momentum Real Estate LLC</td>\n",
       "      <td>Multi-family home for sale</td>\n",
       "      <td>13.652993</td>\n",
       "    </tr>\n",
       "    <tr>\n",
       "      <th>3</th>\n",
       "      <td>2</td>\n",
       "      <td>1.0</td>\n",
       "      <td>3.339294</td>\n",
       "      <td>10025</td>\n",
       "      <td>New York</td>\n",
       "      <td>COMPASS</td>\n",
       "      <td>Co-op for sale</td>\n",
       "      <td>13.623140</td>\n",
       "    </tr>\n",
       "    <tr>\n",
       "      <th>4</th>\n",
       "      <td>3</td>\n",
       "      <td>1.0</td>\n",
       "      <td>2.698970</td>\n",
       "      <td>10034</td>\n",
       "      <td>New York</td>\n",
       "      <td>New Heights Realty</td>\n",
       "      <td>Co-op for sale</td>\n",
       "      <td>12.425212</td>\n",
       "    </tr>\n",
       "    <tr>\n",
       "      <th>5</th>\n",
       "      <td>6</td>\n",
       "      <td>3.0</td>\n",
       "      <td>3.339294</td>\n",
       "      <td>11413</td>\n",
       "      <td>Queens County</td>\n",
       "      <td>Keller Williams Legendary</td>\n",
       "      <td>Multi-family home for sale</td>\n",
       "      <td>15.176487</td>\n",
       "    </tr>\n",
       "    <tr>\n",
       "      <th>6</th>\n",
       "      <td>2</td>\n",
       "      <td>1.0</td>\n",
       "      <td>2.977724</td>\n",
       "      <td>11223</td>\n",
       "      <td>Brooklyn</td>\n",
       "      <td>eXp Realty BKNY</td>\n",
       "      <td>Co-op for sale</td>\n",
       "      <td>12.703816</td>\n",
       "    </tr>\n",
       "    <tr>\n",
       "      <th>7</th>\n",
       "      <td>2</td>\n",
       "      <td>2.0</td>\n",
       "      <td>2.954243</td>\n",
       "      <td>11372</td>\n",
       "      <td>Queens</td>\n",
       "      <td>Other</td>\n",
       "      <td>Co-op for sale</td>\n",
       "      <td>12.506181</td>\n",
       "    </tr>\n",
       "    <tr>\n",
       "      <th>8</th>\n",
       "      <td>4</td>\n",
       "      <td>4.0</td>\n",
       "      <td>3.533009</td>\n",
       "      <td>11231</td>\n",
       "      <td>Kings County</td>\n",
       "      <td>COMPASS</td>\n",
       "      <td>Townhouse for sale</td>\n",
       "      <td>15.200554</td>\n",
       "    </tr>\n",
       "    <tr>\n",
       "      <th>9</th>\n",
       "      <td>3</td>\n",
       "      <td>1.0</td>\n",
       "      <td>3.339294</td>\n",
       "      <td>10014</td>\n",
       "      <td>New York</td>\n",
       "      <td>COMPASS</td>\n",
       "      <td>Co-op for sale</td>\n",
       "      <td>13.586099</td>\n",
       "    </tr>\n",
       "  </tbody>\n",
       "</table>\n",
       "</div>"
      ],
      "text/plain": [
       "   BEDS  BATH  SQFT_LOG ZIPCODE      SUBLOCALITY                BROKERTITLE  \\\n",
       "0     3   1.0  3.339294   10021         New York         Corcoran West Side   \n",
       "1     2   2.0  2.956168   11374    Queens County                 EXP Realty   \n",
       "2     3   2.0  3.229426   10305  Richmond County   Momentum Real Estate LLC   \n",
       "3     2   1.0  3.339294   10025         New York                    COMPASS   \n",
       "4     3   1.0  2.698970   10034         New York         New Heights Realty   \n",
       "5     6   3.0  3.339294   11413    Queens County  Keller Williams Legendary   \n",
       "6     2   1.0  2.977724   11223         Brooklyn            eXp Realty BKNY   \n",
       "7     2   2.0  2.954243   11372           Queens                      Other   \n",
       "8     4   4.0  3.533009   11231     Kings County                    COMPASS   \n",
       "9     3   1.0  3.339294   10014         New York                    COMPASS   \n",
       "\n",
       "                         TYPE  PRICE_LOG  \n",
       "0              Co-op for sale  12.936036  \n",
       "1              Condo for sale  13.422469  \n",
       "2  Multi-family home for sale  13.652993  \n",
       "3              Co-op for sale  13.623140  \n",
       "4              Co-op for sale  12.425212  \n",
       "5  Multi-family home for sale  15.176487  \n",
       "6              Co-op for sale  12.703816  \n",
       "7              Co-op for sale  12.506181  \n",
       "8          Townhouse for sale  15.200554  \n",
       "9              Co-op for sale  13.586099  "
      ]
     },
     "execution_count": 20,
     "metadata": {},
     "output_type": "execute_result"
    }
   ],
   "source": [
    "df_proccessed = df_prep_2.reset_index(drop=True)\n",
    "df_proccessed.head(10)"
   ]
  },
  {
   "cell_type": "markdown",
   "metadata": {},
   "source": [
    "Kategoryzujemy ceny nieruchomości"
   ]
  },
  {
   "cell_type": "code",
   "execution_count": 21,
   "metadata": {},
   "outputs": [
    {
     "data": {
      "text/html": [
       "<div>\n",
       "<style scoped>\n",
       "    .dataframe tbody tr th:only-of-type {\n",
       "        vertical-align: middle;\n",
       "    }\n",
       "\n",
       "    .dataframe tbody tr th {\n",
       "        vertical-align: top;\n",
       "    }\n",
       "\n",
       "    .dataframe thead th {\n",
       "        text-align: right;\n",
       "    }\n",
       "</style>\n",
       "<table border=\"1\" class=\"dataframe\">\n",
       "  <thead>\n",
       "    <tr style=\"text-align: right;\">\n",
       "      <th></th>\n",
       "      <th>BEDS</th>\n",
       "      <th>BATH</th>\n",
       "      <th>SQFT_LOG</th>\n",
       "      <th>ZIPCODE</th>\n",
       "      <th>SUBLOCALITY</th>\n",
       "      <th>BROKERTITLE</th>\n",
       "      <th>TYPE</th>\n",
       "      <th>PRICE_LOG</th>\n",
       "      <th>PRICE_CATEGORY</th>\n",
       "    </tr>\n",
       "  </thead>\n",
       "  <tbody>\n",
       "    <tr>\n",
       "      <th>0</th>\n",
       "      <td>3</td>\n",
       "      <td>1.0</td>\n",
       "      <td>3.339294</td>\n",
       "      <td>10021</td>\n",
       "      <td>New York</td>\n",
       "      <td>Corcoran West Side</td>\n",
       "      <td>Co-op for sale</td>\n",
       "      <td>12.936036</td>\n",
       "      <td>Cheap</td>\n",
       "    </tr>\n",
       "    <tr>\n",
       "      <th>1</th>\n",
       "      <td>2</td>\n",
       "      <td>2.0</td>\n",
       "      <td>2.956168</td>\n",
       "      <td>11374</td>\n",
       "      <td>Queens County</td>\n",
       "      <td>EXP Realty</td>\n",
       "      <td>Condo for sale</td>\n",
       "      <td>13.422469</td>\n",
       "      <td>Mid</td>\n",
       "    </tr>\n",
       "    <tr>\n",
       "      <th>2</th>\n",
       "      <td>3</td>\n",
       "      <td>2.0</td>\n",
       "      <td>3.229426</td>\n",
       "      <td>10305</td>\n",
       "      <td>Richmond County</td>\n",
       "      <td>Momentum Real Estate LLC</td>\n",
       "      <td>Multi-family home for sale</td>\n",
       "      <td>13.652993</td>\n",
       "      <td>Mid</td>\n",
       "    </tr>\n",
       "    <tr>\n",
       "      <th>3</th>\n",
       "      <td>2</td>\n",
       "      <td>1.0</td>\n",
       "      <td>3.339294</td>\n",
       "      <td>10025</td>\n",
       "      <td>New York</td>\n",
       "      <td>COMPASS</td>\n",
       "      <td>Co-op for sale</td>\n",
       "      <td>13.623140</td>\n",
       "      <td>Mid</td>\n",
       "    </tr>\n",
       "    <tr>\n",
       "      <th>4</th>\n",
       "      <td>3</td>\n",
       "      <td>1.0</td>\n",
       "      <td>2.698970</td>\n",
       "      <td>10034</td>\n",
       "      <td>New York</td>\n",
       "      <td>New Heights Realty</td>\n",
       "      <td>Co-op for sale</td>\n",
       "      <td>12.425212</td>\n",
       "      <td>Cheap</td>\n",
       "    </tr>\n",
       "    <tr>\n",
       "      <th>5</th>\n",
       "      <td>6</td>\n",
       "      <td>3.0</td>\n",
       "      <td>3.339294</td>\n",
       "      <td>11413</td>\n",
       "      <td>Queens County</td>\n",
       "      <td>Keller Williams Legendary</td>\n",
       "      <td>Multi-family home for sale</td>\n",
       "      <td>15.176487</td>\n",
       "      <td>Expensive</td>\n",
       "    </tr>\n",
       "    <tr>\n",
       "      <th>6</th>\n",
       "      <td>2</td>\n",
       "      <td>1.0</td>\n",
       "      <td>2.977724</td>\n",
       "      <td>11223</td>\n",
       "      <td>Brooklyn</td>\n",
       "      <td>eXp Realty BKNY</td>\n",
       "      <td>Co-op for sale</td>\n",
       "      <td>12.703816</td>\n",
       "      <td>Cheap</td>\n",
       "    </tr>\n",
       "    <tr>\n",
       "      <th>7</th>\n",
       "      <td>2</td>\n",
       "      <td>2.0</td>\n",
       "      <td>2.954243</td>\n",
       "      <td>11372</td>\n",
       "      <td>Queens</td>\n",
       "      <td>Other</td>\n",
       "      <td>Co-op for sale</td>\n",
       "      <td>12.506181</td>\n",
       "      <td>Cheap</td>\n",
       "    </tr>\n",
       "    <tr>\n",
       "      <th>8</th>\n",
       "      <td>4</td>\n",
       "      <td>4.0</td>\n",
       "      <td>3.533009</td>\n",
       "      <td>11231</td>\n",
       "      <td>Kings County</td>\n",
       "      <td>COMPASS</td>\n",
       "      <td>Townhouse for sale</td>\n",
       "      <td>15.200554</td>\n",
       "      <td>Expensive</td>\n",
       "    </tr>\n",
       "    <tr>\n",
       "      <th>9</th>\n",
       "      <td>3</td>\n",
       "      <td>1.0</td>\n",
       "      <td>3.339294</td>\n",
       "      <td>10014</td>\n",
       "      <td>New York</td>\n",
       "      <td>COMPASS</td>\n",
       "      <td>Co-op for sale</td>\n",
       "      <td>13.586099</td>\n",
       "      <td>Mid</td>\n",
       "    </tr>\n",
       "  </tbody>\n",
       "</table>\n",
       "</div>"
      ],
      "text/plain": [
       "   BEDS  BATH  SQFT_LOG ZIPCODE      SUBLOCALITY                BROKERTITLE  \\\n",
       "0     3   1.0  3.339294   10021         New York         Corcoran West Side   \n",
       "1     2   2.0  2.956168   11374    Queens County                 EXP Realty   \n",
       "2     3   2.0  3.229426   10305  Richmond County   Momentum Real Estate LLC   \n",
       "3     2   1.0  3.339294   10025         New York                    COMPASS   \n",
       "4     3   1.0  2.698970   10034         New York         New Heights Realty   \n",
       "5     6   3.0  3.339294   11413    Queens County  Keller Williams Legendary   \n",
       "6     2   1.0  2.977724   11223         Brooklyn            eXp Realty BKNY   \n",
       "7     2   2.0  2.954243   11372           Queens                      Other   \n",
       "8     4   4.0  3.533009   11231     Kings County                    COMPASS   \n",
       "9     3   1.0  3.339294   10014         New York                    COMPASS   \n",
       "\n",
       "                         TYPE  PRICE_LOG PRICE_CATEGORY  \n",
       "0              Co-op for sale  12.936036          Cheap  \n",
       "1              Condo for sale  13.422469            Mid  \n",
       "2  Multi-family home for sale  13.652993            Mid  \n",
       "3              Co-op for sale  13.623140            Mid  \n",
       "4              Co-op for sale  12.425212          Cheap  \n",
       "5  Multi-family home for sale  15.176487      Expensive  \n",
       "6              Co-op for sale  12.703816          Cheap  \n",
       "7              Co-op for sale  12.506181          Cheap  \n",
       "8          Townhouse for sale  15.200554      Expensive  \n",
       "9              Co-op for sale  13.586099            Mid  "
      ]
     },
     "execution_count": 21,
     "metadata": {},
     "output_type": "execute_result"
    }
   ],
   "source": [
    "lim_1 = df_proccessed[\"PRICE_LOG\"].quantile(.33)\n",
    "lim_2 = df_proccessed[\"PRICE_LOG\"].quantile(.66)\n",
    "\n",
    "df_proccessed['PRICE_CATEGORY'] = pd.cut(df_proccessed['PRICE_LOG'], bins=[-float('inf'), lim_1, lim_2, float('inf')], labels=['Cheap', 'Mid', 'Expensive'])\n",
    "df_proccessed.head(10)\n"
   ]
  },
  {
   "cell_type": "markdown",
   "metadata": {},
   "source": [
    "Podział na zbiór do nauki i docelowy"
   ]
  },
  {
   "cell_type": "code",
   "execution_count": 22,
   "metadata": {},
   "outputs": [],
   "source": [
    "X = df_proccessed.drop(\"PRICE_CATEGORY\", axis=1)\n",
    "y = df_proccessed[\"PRICE_CATEGORY\"]"
   ]
  },
  {
   "cell_type": "markdown",
   "metadata": {},
   "source": [
    "Encodowanie zmiennych kategorycznych"
   ]
  },
  {
   "cell_type": "code",
   "execution_count": 23,
   "metadata": {},
   "outputs": [],
   "source": [
    "from sklearn.preprocessing import OneHotEncoder\n",
    "from sklearn.compose import ColumnTransformer\n",
    "\n",
    "to_encode = [\"ZIPCODE\", \"SUBLOCALITY\", \"BROKERTITLE\", \"TYPE\"]\n",
    "\n",
    "onehot_encoder = OneHotEncoder()\n",
    "column_transformer = ColumnTransformer([('onehot_encoder', onehot_encoder, to_encode)], remainder='passthrough')\n",
    "\n",
    "X_encoded = column_transformer.fit_transform(X)\n",
    "\n",
    "X_train, X_test, y_train, y_test = train_test_split(X_encoded, y, test_size=0.3, random_state= 42)"
   ]
  },
  {
   "cell_type": "markdown",
   "metadata": {},
   "source": [
    "## Proste modele"
   ]
  },
  {
   "cell_type": "code",
   "execution_count": 24,
   "metadata": {},
   "outputs": [],
   "source": [
    "from sklearn.linear_model import LogisticRegression\n",
    "from sklearn.tree import DecisionTreeClassifier\n",
    "from sklearn.ensemble import GradientBoostingClassifier\n",
    "from sklearn.svm import SVC\n",
    "from sklearn.metrics import accuracy_score, classification_report"
   ]
  },
  {
   "cell_type": "code",
   "execution_count": 25,
   "metadata": {},
   "outputs": [
    {
     "name": "stdout",
     "output_type": "stream",
     "text": [
      "0.7713347921225383\n",
      "              precision    recall  f1-score   support\n",
      "\n",
      "       Cheap       0.82      0.82      0.82       301\n",
      "   Expensive       0.85      0.81      0.83       326\n",
      "         Mid       0.64      0.68      0.66       287\n",
      "\n",
      "    accuracy                           0.77       914\n",
      "   macro avg       0.77      0.77      0.77       914\n",
      "weighted avg       0.78      0.77      0.77       914\n",
      "\n"
     ]
    }
   ],
   "source": [
    "model = LogisticRegression()\n",
    "model.fit(X=X_train, y= y_train)\n",
    "y_predicted = model.predict(X_test)\n",
    "accuracy = accuracy_score(y_test, y_predicted)\n",
    "print(accuracy)\n",
    "class_report = classification_report(y_test, y_predicted)\n",
    "print(class_report)"
   ]
  },
  {
   "cell_type": "code",
   "execution_count": 26,
   "metadata": {},
   "outputs": [
    {
     "data": {
      "text/plain": [
       "1.0"
      ]
     },
     "metadata": {},
     "output_type": "display_data"
    },
    {
     "name": "stdout",
     "output_type": "stream",
     "text": [
      "              precision    recall  f1-score   support\n",
      "\n",
      "       Cheap       1.00      1.00      1.00       301\n",
      "   Expensive       1.00      1.00      1.00       326\n",
      "         Mid       1.00      1.00      1.00       287\n",
      "\n",
      "    accuracy                           1.00       914\n",
      "   macro avg       1.00      1.00      1.00       914\n",
      "weighted avg       1.00      1.00      1.00       914\n",
      "\n"
     ]
    }
   ],
   "source": [
    "model2 = DecisionTreeClassifier()\n",
    "model2.fit(X=X_train, y= y_train)\n",
    "y_predicted2 = model2.predict(X_test)\n",
    "accuracy2 = accuracy_score(y_test, y_predicted2)\n",
    "display(accuracy2)\n",
    "class_report2 = classification_report(y_test, y_predicted2)\n",
    "print(class_report2)"
   ]
  },
  {
   "cell_type": "code",
   "execution_count": 27,
   "metadata": {},
   "outputs": [
    {
     "data": {
      "text/plain": [
       "1.0"
      ]
     },
     "metadata": {},
     "output_type": "display_data"
    },
    {
     "name": "stdout",
     "output_type": "stream",
     "text": [
      "              precision    recall  f1-score   support\n",
      "\n",
      "       Cheap       1.00      1.00      1.00       301\n",
      "   Expensive       1.00      1.00      1.00       326\n",
      "         Mid       1.00      1.00      1.00       287\n",
      "\n",
      "    accuracy                           1.00       914\n",
      "   macro avg       1.00      1.00      1.00       914\n",
      "weighted avg       1.00      1.00      1.00       914\n",
      "\n"
     ]
    }
   ],
   "source": [
    "model3 = GradientBoostingClassifier()\n",
    "model3.fit(X=X_train, y= y_train)\n",
    "y_predicted2 = model3.predict(X_test)\n",
    "accuracy2 = accuracy_score(y_test, y_predicted2)\n",
    "display(accuracy2)\n",
    "class_report2 = classification_report(y_test, y_predicted2)\n",
    "print(class_report2)"
   ]
  },
  {
   "cell_type": "code",
   "execution_count": 28,
   "metadata": {},
   "outputs": [
    {
     "data": {
      "text/plain": [
       "1.0"
      ]
     },
     "metadata": {},
     "output_type": "display_data"
    },
    {
     "name": "stdout",
     "output_type": "stream",
     "text": [
      "              precision    recall  f1-score   support\n",
      "\n",
      "       Cheap       0.97      0.85      0.91       301\n",
      "   Expensive       0.99      0.82      0.90       326\n",
      "         Mid       0.73      0.97      0.83       287\n",
      "\n",
      "    accuracy                           0.87       914\n",
      "   macro avg       0.90      0.88      0.88       914\n",
      "weighted avg       0.90      0.87      0.88       914\n",
      "\n"
     ]
    }
   ],
   "source": [
    "model4 = SVC()\n",
    "model4.fit(X=X_train, y= y_train)\n",
    "y_predicted3 = model4.predict(X_test)\n",
    "accuracy3 = accuracy_score(y_test, y_predicted2)\n",
    "display(accuracy3)\n",
    "class_report3 = classification_report(y_test, y_predicted3)\n",
    "print(class_report3)"
   ]
  }
 ],
 "metadata": {
  "kernelspec": {
   "display_name": "Python 3",
   "language": "python",
   "name": "python3"
  },
  "language_info": {
   "codemirror_mode": {
    "name": "ipython",
    "version": 3
   },
   "file_extension": ".py",
   "mimetype": "text/x-python",
   "name": "python",
   "nbconvert_exporter": "python",
   "pygments_lexer": "ipython3",
   "version": "3.9.13"
  }
 },
 "nbformat": 4,
 "nbformat_minor": 2
}
